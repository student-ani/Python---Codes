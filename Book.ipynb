{
 "cells": [
  {
   "cell_type": "code",
   "execution_count": null,
   "metadata": {},
   "outputs": [],
   "source": [
    "book_list = []\n",
    "for data in range(2):\n",
    "    book_name = str(input(\"Enter the Book name: \"))\n",
    "    book_author = str(input(\"Enter the author name: \"))\n",
    "    book_price = int(input(\"Enter the price of the book: \"))\n",
    "    book_list.append(\n",
    "        {\n",
    "        'Book_title':book_name,\n",
    "        'Book_author':book_author,\n",
    "        'Book_price':book_price\n",
    "        }\n",
    "    )\n",
    "    header = f\"{'Book_title'<15}\"\n",
    "    "
   ]
  }
 ],
 "metadata": {
  "language_info": {
   "name": "python"
  }
 },
 "nbformat": 4,
 "nbformat_minor": 2
}
