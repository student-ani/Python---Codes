{
 "cells": [
  {
   "cell_type": "markdown",
   "metadata": {},
   "source": [
    "# Feature Scaling Solution Notebook"
   ]
  },
  {
   "cell_type": "markdown",
   "metadata": {},
   "source": [
    "### Importing Libraries"
   ]
  },
  {
   "cell_type": "code",
   "execution_count": 1,
   "metadata": {},
   "outputs": [],
   "source": [
    "import pandas as pd\n",
    "import numpy as np"
   ]
  },
  {
   "cell_type": "markdown",
   "metadata": {},
   "source": [
    "### Importing Dataset"
   ]
  },
  {
   "cell_type": "code",
   "execution_count": 2,
   "metadata": {
    "scrolled": true
   },
   "outputs": [
    {
     "data": {
      "text/html": [
       "<div>\n",
       "<style scoped>\n",
       "    .dataframe tbody tr th:only-of-type {\n",
       "        vertical-align: middle;\n",
       "    }\n",
       "\n",
       "    .dataframe tbody tr th {\n",
       "        vertical-align: top;\n",
       "    }\n",
       "\n",
       "    .dataframe thead th {\n",
       "        text-align: right;\n",
       "    }\n",
       "</style>\n",
       "<table border=\"1\" class=\"dataframe\">\n",
       "  <thead>\n",
       "    <tr style=\"text-align: right;\">\n",
       "      <th></th>\n",
       "      <th>Australia</th>\n",
       "      <th>Canada</th>\n",
       "      <th>Dubai</th>\n",
       "      <th>USA</th>\n",
       "      <th>Salary</th>\n",
       "      <th>YearsExperience</th>\n",
       "      <th>Purchased</th>\n",
       "    </tr>\n",
       "  </thead>\n",
       "  <tbody>\n",
       "    <tr>\n",
       "      <th>0</th>\n",
       "      <td>0</td>\n",
       "      <td>0</td>\n",
       "      <td>1</td>\n",
       "      <td>0</td>\n",
       "      <td>39343</td>\n",
       "      <td>1.1</td>\n",
       "      <td>0</td>\n",
       "    </tr>\n",
       "    <tr>\n",
       "      <th>1</th>\n",
       "      <td>0</td>\n",
       "      <td>1</td>\n",
       "      <td>0</td>\n",
       "      <td>0</td>\n",
       "      <td>46205</td>\n",
       "      <td>1.3</td>\n",
       "      <td>1</td>\n",
       "    </tr>\n",
       "    <tr>\n",
       "      <th>2</th>\n",
       "      <td>0</td>\n",
       "      <td>1</td>\n",
       "      <td>0</td>\n",
       "      <td>0</td>\n",
       "      <td>37731</td>\n",
       "      <td>1.5</td>\n",
       "      <td>0</td>\n",
       "    </tr>\n",
       "    <tr>\n",
       "      <th>3</th>\n",
       "      <td>0</td>\n",
       "      <td>1</td>\n",
       "      <td>0</td>\n",
       "      <td>0</td>\n",
       "      <td>43525</td>\n",
       "      <td>2.0</td>\n",
       "      <td>0</td>\n",
       "    </tr>\n",
       "    <tr>\n",
       "      <th>4</th>\n",
       "      <td>0</td>\n",
       "      <td>0</td>\n",
       "      <td>0</td>\n",
       "      <td>1</td>\n",
       "      <td>39891</td>\n",
       "      <td>2.2</td>\n",
       "      <td>0</td>\n",
       "    </tr>\n",
       "  </tbody>\n",
       "</table>\n",
       "</div>"
      ],
      "text/plain": [
       "   Australia  Canada  Dubai  USA  Salary  YearsExperience  Purchased\n",
       "0          0       0      1    0   39343              1.1          0\n",
       "1          0       1      0    0   46205              1.3          1\n",
       "2          0       1      0    0   37731              1.5          0\n",
       "3          0       1      0    0   43525              2.0          0\n",
       "4          0       0      0    1   39891              2.2          0"
      ]
     },
     "execution_count": 2,
     "metadata": {},
     "output_type": "execute_result"
    }
   ],
   "source": [
    "df = pd.read_csv(\"Dataset_03 (1).csv\")\n",
    "df.head()"
   ]
  },
  {
   "cell_type": "code",
   "execution_count": 15,
   "metadata": {},
   "outputs": [
    {
     "name": "stdout",
     "output_type": "stream",
     "text": [
      "    Australia  Canada  Dubai  USA  Salary  YearsExperience\n",
      "0           0       0      1    0   39343              1.1\n",
      "1           0       1      0    0   46205              1.3\n",
      "2           0       1      0    0   37731              1.5\n",
      "3           0       1      0    0   43525              2.0\n",
      "4           0       0      0    1   39891              2.2\n",
      "5           0       0      1    0   56642              2.9\n",
      "6           0       1      0    0   60150              3.0\n",
      "7           1       0      0    0   54445              3.2\n",
      "8           0       0      1    0   64445              3.2\n",
      "9           0       0      1    0   57189              3.7\n",
      "10          0       0      1    0   63218              3.9\n",
      "11          0       0      0    1   55794              4.0\n",
      "12          0       0      1    0   56957              4.0\n",
      "13          0       1      0    0   57081              4.1\n",
      "14          1       0      0    0   61111              4.5\n",
      "15          0       0      0    1   67938              4.9\n",
      "16          0       0      0    1   66029              5.1\n",
      "17          0       1      0    0   83088              5.3\n",
      "18          1       0      0    0   81363              5.9\n",
      "19          0       1      0    0   93940              6.0\n",
      "20          0       1      0    0   91738              6.8\n",
      "21          1       0      0    0   98273              7.1\n",
      "22          1       0      0    0  101302              7.9\n",
      "23          1       0      0    0  113812              8.2\n",
      "24          0       0      1    0  109431              8.7\n",
      "25          1       0      0    0  105582              9.0\n",
      "26          0       0      1    0  116969              9.5\n",
      "27          0       0      0    1  112635              9.6\n",
      "28          0       0      0    1  122391             10.3\n",
      "29          0       1      0    0  121872             10.5\n"
     ]
    }
   ],
   "source": [
    "\n",
    "X = df.iloc[:,:-1]\n",
    "print(X)\n",
    "y = df.iloc[:,-1]\n",
    "\n"
   ]
  },
  {
   "cell_type": "markdown",
   "metadata": {},
   "source": [
    "### Splitting Dataset"
   ]
  },
  {
   "cell_type": "code",
   "execution_count": 16,
   "metadata": {},
   "outputs": [
    {
     "name": "stdout",
     "output_type": "stream",
     "text": [
      "    Australia  Canada  Dubai  USA  Salary  YearsExperience\n",
      "26          0       0      1    0  116969              9.5\n",
      "3           0       1      0    0   43525              2.0\n",
      "24          0       0      1    0  109431              8.7\n",
      "22          1       0      0    0  101302              7.9\n",
      "23          1       0      0    0  113812              8.2\n",
      "4           0       0      0    1   39891              2.2\n",
      "2           0       1      0    0   37731              1.5\n",
      "25          1       0      0    0  105582              9.0\n",
      "6           0       1      0    0   60150              3.0\n",
      "18          1       0      0    0   81363              5.9\n",
      "13          0       1      0    0   57081              4.1\n",
      "7           1       0      0    0   54445              3.2\n",
      "27          0       0      0    1  112635              9.6\n",
      "1           0       1      0    0   46205              1.3\n",
      "16          0       0      0    1   66029              5.1\n",
      "0           0       0      1    0   39343              1.1\n",
      "15          0       0      0    1   67938              4.9\n",
      "29          0       1      0    0  121872             10.5\n",
      "28          0       0      0    1  122391             10.3\n",
      "9           0       0      1    0   57189              3.7\n",
      "8           0       0      1    0   64445              3.2\n",
      "12          0       0      1    0   56957              4.0\n",
      "11          0       0      0    1   55794              4.0\n",
      "5           0       0      1    0   56642              2.9\n"
     ]
    }
   ],
   "source": [
    "from sklearn.model_selection import train_test_split\n",
    "X_train, X_test, y_train, y_test =train_test_split(X, y, test_size = 0.2, random_state = 1) \n",
    "print(X_train)"
   ]
  },
  {
   "cell_type": "markdown",
   "metadata": {},
   "source": [
    "### Perform Feature Scaling"
   ]
  },
  {
   "cell_type": "code",
   "execution_count": 22,
   "metadata": {},
   "outputs": [
    {
     "data": {
      "text/plain": [
       "array([2.08333333e-01, 2.50000000e-01, 2.91666667e-01, 2.50000000e-01,\n",
       "       7.45300833e+04, 5.24166667e+00])"
      ]
     },
     "execution_count": 22,
     "metadata": {},
     "output_type": "execute_result"
    }
   ],
   "source": [
    "#Importing StandardScaler\n",
    "from sklearn.preprocessing import StandardScaler\n",
    "#Creating Instance of StandarScaler\n",
    "sc = StandardScaler()\n",
    "#Perform scaling in X_train with fit_transform.\n",
    "#Here we are applying fit_transform because,\n",
    "        # fit will calculate mean and standard deviation of X_train\n",
    "        # transform will actually perform scaling with calculated mean and std.\n",
    "        # fit_transform method does this both thing in one line of code.\n",
    "X_train.iloc[:, 4:] = sc.fit_transform(X_train.iloc[:, 4:])\n",
    "\n",
    "# Here we will only use transform because we have already calculated mean and std.\n",
    "# Another reason is we don't want to know the mean and std of our test dataset As it\n",
    "# Lead to information leakage.\n",
    "X_test.iloc[:, 4:] = sc.transform(X_test.iloc[:, 4:])"
   ]
  },
  {
   "cell_type": "markdown",
   "metadata": {},
   "source": [
    "### Check it "
   ]
  },
  {
   "cell_type": "code",
   "execution_count": 25,
   "metadata": {},
   "outputs": [
    {
     "data": {
      "text/html": [
       "<div>\n",
       "<style scoped>\n",
       "    .dataframe tbody tr th:only-of-type {\n",
       "        vertical-align: middle;\n",
       "    }\n",
       "\n",
       "    .dataframe tbody tr th {\n",
       "        vertical-align: top;\n",
       "    }\n",
       "\n",
       "    .dataframe thead th {\n",
       "        text-align: right;\n",
       "    }\n",
       "</style>\n",
       "<table border=\"1\" class=\"dataframe\">\n",
       "  <thead>\n",
       "    <tr style=\"text-align: right;\">\n",
       "      <th></th>\n",
       "      <th>Australia</th>\n",
       "      <th>Canada</th>\n",
       "      <th>Dubai</th>\n",
       "      <th>USA</th>\n",
       "      <th>Salary</th>\n",
       "      <th>YearsExperience</th>\n",
       "    </tr>\n",
       "  </thead>\n",
       "  <tbody>\n",
       "    <tr>\n",
       "      <th>count</th>\n",
       "      <td>24.000000</td>\n",
       "      <td>24.000000</td>\n",
       "      <td>24.000000</td>\n",
       "      <td>24.000000</td>\n",
       "      <td>24.000000</td>\n",
       "      <td>24.000000</td>\n",
       "    </tr>\n",
       "    <tr>\n",
       "      <th>mean</th>\n",
       "      <td>0.208333</td>\n",
       "      <td>0.250000</td>\n",
       "      <td>0.291667</td>\n",
       "      <td>0.250000</td>\n",
       "      <td>74530.083333</td>\n",
       "      <td>5.241667</td>\n",
       "    </tr>\n",
       "    <tr>\n",
       "      <th>std</th>\n",
       "      <td>0.414851</td>\n",
       "      <td>0.442326</td>\n",
       "      <td>0.464306</td>\n",
       "      <td>0.442326</td>\n",
       "      <td>29666.410548</td>\n",
       "      <td>3.127009</td>\n",
       "    </tr>\n",
       "    <tr>\n",
       "      <th>min</th>\n",
       "      <td>0.000000</td>\n",
       "      <td>0.000000</td>\n",
       "      <td>0.000000</td>\n",
       "      <td>0.000000</td>\n",
       "      <td>37731.000000</td>\n",
       "      <td>1.100000</td>\n",
       "    </tr>\n",
       "    <tr>\n",
       "      <th>25%</th>\n",
       "      <td>0.000000</td>\n",
       "      <td>0.000000</td>\n",
       "      <td>0.000000</td>\n",
       "      <td>0.000000</td>\n",
       "      <td>55456.750000</td>\n",
       "      <td>2.975000</td>\n",
       "    </tr>\n",
       "    <tr>\n",
       "      <th>50%</th>\n",
       "      <td>0.000000</td>\n",
       "      <td>0.000000</td>\n",
       "      <td>0.000000</td>\n",
       "      <td>0.000000</td>\n",
       "      <td>62297.500000</td>\n",
       "      <td>4.050000</td>\n",
       "    </tr>\n",
       "    <tr>\n",
       "      <th>75%</th>\n",
       "      <td>0.000000</td>\n",
       "      <td>0.250000</td>\n",
       "      <td>1.000000</td>\n",
       "      <td>0.250000</td>\n",
       "      <td>106544.250000</td>\n",
       "      <td>8.325000</td>\n",
       "    </tr>\n",
       "    <tr>\n",
       "      <th>max</th>\n",
       "      <td>1.000000</td>\n",
       "      <td>1.000000</td>\n",
       "      <td>1.000000</td>\n",
       "      <td>1.000000</td>\n",
       "      <td>122391.000000</td>\n",
       "      <td>10.500000</td>\n",
       "    </tr>\n",
       "  </tbody>\n",
       "</table>\n",
       "</div>"
      ],
      "text/plain": [
       "       Australia     Canada      Dubai        USA         Salary  \\\n",
       "count  24.000000  24.000000  24.000000  24.000000      24.000000   \n",
       "mean    0.208333   0.250000   0.291667   0.250000   74530.083333   \n",
       "std     0.414851   0.442326   0.464306   0.442326   29666.410548   \n",
       "min     0.000000   0.000000   0.000000   0.000000   37731.000000   \n",
       "25%     0.000000   0.000000   0.000000   0.000000   55456.750000   \n",
       "50%     0.000000   0.000000   0.000000   0.000000   62297.500000   \n",
       "75%     0.000000   0.250000   1.000000   0.250000  106544.250000   \n",
       "max     1.000000   1.000000   1.000000   1.000000  122391.000000   \n",
       "\n",
       "       YearsExperience  \n",
       "count        24.000000  \n",
       "mean          5.241667  \n",
       "std           3.127009  \n",
       "min           1.100000  \n",
       "25%           2.975000  \n",
       "50%           4.050000  \n",
       "75%           8.325000  \n",
       "max          10.500000  "
      ]
     },
     "execution_count": 25,
     "metadata": {},
     "output_type": "execute_result"
    }
   ],
   "source": [
    "X_train"
   ]
  },
  {
   "cell_type": "code",
   "execution_count": 26,
   "metadata": {},
   "outputs": [
    {
     "data": {
      "text/html": [
       "<div>\n",
       "<style scoped>\n",
       "    .dataframe tbody tr th:only-of-type {\n",
       "        vertical-align: middle;\n",
       "    }\n",
       "\n",
       "    .dataframe tbody tr th {\n",
       "        vertical-align: top;\n",
       "    }\n",
       "\n",
       "    .dataframe thead th {\n",
       "        text-align: right;\n",
       "    }\n",
       "</style>\n",
       "<table border=\"1\" class=\"dataframe\">\n",
       "  <thead>\n",
       "    <tr style=\"text-align: right;\">\n",
       "      <th></th>\n",
       "      <th>Australia</th>\n",
       "      <th>Canada</th>\n",
       "      <th>Dubai</th>\n",
       "      <th>USA</th>\n",
       "      <th>Salary</th>\n",
       "      <th>YearsExperience</th>\n",
       "    </tr>\n",
       "  </thead>\n",
       "  <tbody>\n",
       "    <tr>\n",
       "      <th>17</th>\n",
       "      <td>0</td>\n",
       "      <td>1</td>\n",
       "      <td>0</td>\n",
       "      <td>0</td>\n",
       "      <td>83088</td>\n",
       "      <td>5.3</td>\n",
       "    </tr>\n",
       "    <tr>\n",
       "      <th>21</th>\n",
       "      <td>1</td>\n",
       "      <td>0</td>\n",
       "      <td>0</td>\n",
       "      <td>0</td>\n",
       "      <td>98273</td>\n",
       "      <td>7.1</td>\n",
       "    </tr>\n",
       "    <tr>\n",
       "      <th>10</th>\n",
       "      <td>0</td>\n",
       "      <td>0</td>\n",
       "      <td>1</td>\n",
       "      <td>0</td>\n",
       "      <td>63218</td>\n",
       "      <td>3.9</td>\n",
       "    </tr>\n",
       "    <tr>\n",
       "      <th>19</th>\n",
       "      <td>0</td>\n",
       "      <td>1</td>\n",
       "      <td>0</td>\n",
       "      <td>0</td>\n",
       "      <td>93940</td>\n",
       "      <td>6.0</td>\n",
       "    </tr>\n",
       "    <tr>\n",
       "      <th>14</th>\n",
       "      <td>1</td>\n",
       "      <td>0</td>\n",
       "      <td>0</td>\n",
       "      <td>0</td>\n",
       "      <td>61111</td>\n",
       "      <td>4.5</td>\n",
       "    </tr>\n",
       "    <tr>\n",
       "      <th>20</th>\n",
       "      <td>0</td>\n",
       "      <td>1</td>\n",
       "      <td>0</td>\n",
       "      <td>0</td>\n",
       "      <td>91738</td>\n",
       "      <td>6.8</td>\n",
       "    </tr>\n",
       "  </tbody>\n",
       "</table>\n",
       "</div>"
      ],
      "text/plain": [
       "    Australia  Canada  Dubai  USA  Salary  YearsExperience\n",
       "17          0       1      0    0   83088              5.3\n",
       "21          1       0      0    0   98273              7.1\n",
       "10          0       0      1    0   63218              3.9\n",
       "19          0       1      0    0   93940              6.0\n",
       "14          1       0      0    0   61111              4.5\n",
       "20          0       1      0    0   91738              6.8"
      ]
     },
     "execution_count": 26,
     "metadata": {},
     "output_type": "execute_result"
    }
   ],
   "source": [
    "X_test\n"
   ]
  },
  {
   "cell_type": "code",
   "execution_count": null,
   "metadata": {},
   "outputs": [],
   "source": []
  }
 ],
 "metadata": {
  "kernelspec": {
   "display_name": "Python 3 (ipykernel)",
   "language": "python",
   "name": "python3"
  },
  "language_info": {
   "codemirror_mode": {
    "name": "ipython",
    "version": 3
   },
   "file_extension": ".py",
   "mimetype": "text/x-python",
   "name": "python",
   "nbconvert_exporter": "python",
   "pygments_lexer": "ipython3",
   "version": "3.11.5"
  }
 },
 "nbformat": 4,
 "nbformat_minor": 4
}
