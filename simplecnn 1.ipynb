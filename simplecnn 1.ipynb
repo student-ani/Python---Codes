{
 "cells": [
  {
   "cell_type": "code",
   "execution_count": 2,
   "metadata": {
    "editable": false,
    "execution": {
     "iopub.execute_input": "2024-04-06T05:48:42.247543Z",
     "iopub.status.busy": "2024-04-06T05:48:42.247171Z",
     "iopub.status.idle": "2024-04-06T05:48:58.947834Z",
     "shell.execute_reply": "2024-04-06T05:48:58.946397Z",
     "shell.execute_reply.started": "2024-04-06T05:48:42.247512Z"
    },
    "id": "1kyOyr6vgf14",
    "scrolled": true
   },
   "outputs": [],
   "source": [
    "import tensorflow as tf\n",
    "from tensorflow.keras import datasets, layers, models\n",
    "import matplotlib.pyplot as plt"
   ]
  },
  {
   "cell_type": "code",
   "execution_count": 3,
   "metadata": {
    "colab": {
     "base_uri": "https://localhost:8080/"
    },
    "editable": false,
    "execution": {
     "iopub.execute_input": "2024-04-06T05:49:11.474379Z",
     "iopub.status.busy": "2024-04-06T05:49:11.473692Z",
     "iopub.status.idle": "2024-04-06T05:49:19.551338Z",
     "shell.execute_reply": "2024-04-06T05:49:19.550163Z",
     "shell.execute_reply.started": "2024-04-06T05:49:11.474343Z"
    },
    "id": "mIuJBJP8ghpM",
    "outputId": "f36a394f-6728-480a-bd91-879534afa898"
   },
   "outputs": [],
   "source": [
    "# Load CIFAR-10 dataset\n",
    "(train_images, train_labels), (test_images, test_labels) = datasets.cifar10.load_data()\n"
   ]
  },
  {
   "cell_type": "markdown",
   "metadata": {
    "editable": false,
    "id": "HA0SWfVAjHd6"
   },
   "source": [
    "This line of code is responsible for loading the CIFAR-10 dataset and assigning it to four variables: train_images, train_labels, test_images, and test_labels. Here's what each part does:\n",
    "\n",
    "**datasets.cifar10.load_data():** This function is part of the TensorFlow Keras datasets module. It loads the CIFAR-10 dataset, which is a popular benchmark dataset for image classification tasks. CIFAR-10 contains 60,000 32x32 color images in 10 different classes, with 6,000 images per class. This function automatically downloads the dataset if it's not already available locally.\n",
    "\n",
    "**(train_images, train_labels):** This part of the code is a tuple unpacking operation. The load_data() function returns two tuples: one for the training set and one for the test set. Each tuple contains two elements: the images and their corresponding labels. By using tuple unpacking, we assign the images to train_images and the labels to train_labels.\n",
    "\n",
    "**(test_images, test_labels):** Similar to the previous tuple, this part of the code assigns the test images to test_images and the test labels to test_labels.\n",
    "\n",
    "So, after executing this line of code, we have four variables:\n",
    "\n",
    "1. train_images: A numpy array containing the training images.\n",
    "2. train_labels: A numpy array containing the labels corresponding to the training images.\n",
    "3. test_images: A numpy array containing the test images.\n",
    "4. test_labels: A numpy array containing the labels corresponding to the test images.\n",
    "These variables are then used for training and evaluating machine learning models for image classification tasks using the CIFAR-10 dataset."
   ]
  },
  {
   "cell_type": "code",
   "execution_count": 4,
   "metadata": {
    "editable": false,
    "execution": {
     "iopub.execute_input": "2024-04-06T05:49:27.968129Z",
     "iopub.status.busy": "2024-04-06T05:49:27.966888Z",
     "iopub.status.idle": "2024-04-06T05:49:28.760531Z",
     "shell.execute_reply": "2024-04-06T05:49:28.759241Z",
     "shell.execute_reply.started": "2024-04-06T05:49:27.968062Z"
    },
    "id": "PcguO5thg3zg"
   },
   "outputs": [],
   "source": [
    "# Normalize pixel values to be between 0 and 1\n",
    "train_images, test_images = train_images / 255.0, test_images / 255.0"
   ]
  },
  {
   "cell_type": "markdown",
   "metadata": {
    "editable": false,
    "id": "XUXs8ojcjXC3"
   },
   "source": [
    "This line of code is performing a normalization step on the pixel values of the images in the CIFAR-10 dataset.\n",
    "\n",
    "Normalization is a common preprocessing step in machine learning tasks, particularly in image processing and computer vision. It helps to make training more stable and can lead to faster convergence during training. Additionally, it ensures that the features (pixel values in this case) are on a similar scale, which can help improve the performance of certain machine learning algorithms.\n",
    "\n",
    "**train_images:** This variable holds a numpy array containing the pixel values of the training images from the CIFAR-10 dataset.\n",
    "\n",
    "**test_images:** Similarly, this variable contains the pixel values of the test images.\n",
    "\n",
    "**train_images / 255.0:** Here, each pixel value in the training images is divided by 255.0. This operation scales down the pixel values to a range between 0 and 1. This step is crucial for normalization. By dividing by 255, we're essentially scaling the pixel values to be between 0 and 1 because the original pixel values range from 0 to 255 (as they are 8-bit grayscale or RGB images).\n",
    "\n",
    "**test_images / 255.0:** Similarly, the pixel values of the test images are also divided by 255.0, ensuring that both the training and test images are normalized in the same way."
   ]
  },
  {
   "cell_type": "code",
   "execution_count": 5,
   "metadata": {
    "editable": false,
    "execution": {
     "iopub.execute_input": "2024-04-06T05:49:35.237838Z",
     "iopub.status.busy": "2024-04-06T05:49:35.237434Z",
     "iopub.status.idle": "2024-04-06T05:49:35.351602Z",
     "shell.execute_reply": "2024-04-06T05:49:35.350754Z",
     "shell.execute_reply.started": "2024-04-06T05:49:35.237806Z"
    },
    "id": "g9MisFp9g6J4"
   },
   "outputs": [
    {
     "name": "stderr",
     "output_type": "stream",
     "text": [
      "C:\\Users\\Pallvi\\anaconda3\\Lib\\site-packages\\keras\\src\\layers\\convolutional\\base_conv.py:99: UserWarning: Do not pass an `input_shape`/`input_dim` argument to a layer. When using Sequential models, prefer using an `Input(shape)` object as the first layer in the model instead.\n",
      "  super().__init__(\n"
     ]
    }
   ],
   "source": [
    "# Define CNN model\n",
    "model = models.Sequential([\n",
    "    layers.Conv2D(32, (3, 3), activation='relu', input_shape=(32, 32, 3)),\n",
    "    layers.MaxPooling2D((2, 2)),\n",
    "    layers.Conv2D(64, (3, 3), activation='relu'),\n",
    "    layers.MaxPooling2D((2, 2)),\n",
    "    layers.Conv2D(64, (3, 3), activation='relu'),\n",
    "    layers.Flatten(),\n",
    "    layers.Dense(64, activation='relu'),\n",
    "    layers.Dense(10)\n",
    "])"
   ]
  },
  {
   "cell_type": "markdown",
   "metadata": {
    "editable": false,
    "id": "BIlPPfTjjlRG"
   },
   "source": [
    "This code defines a Convolutional Neural Network (CNN) model using TensorFlow's Keras API. The architecture defined by this code consists of three convolutional layers followed by max pooling, flattening, and two dense layers. It's a common CNN architecture used for image classification tasks. The ReLU activation function is used to introduce non-linearity, and the final layer produces raw predictions for each class without applying any activation function.\n",
    "\n",
    "Sequential Model: The Sequential class allows us to create models layer-by-layer. It represents a linear stack of layers.\n",
    "\n",
    "**1. Convolutional Layers:**\n",
    "\n",
    "**layers.Conv2D(32, (3, 3), activation='relu', input_shape=(32, 32, 3)):** This line adds the first convolutional layer to the model. It has 32 filters, each with a size of 3x3 pixels. The activation function used is ReLU (Rectified Linear Unit). The input_shape parameter specifies the shape of input images, which is (32, 32, 3) for CIFAR-10 images (32x32 pixels with 3 channels for RGB).\n",
    "\n",
    "**layers.Conv2D(64, (3, 3), activation='relu'):** This line adds the second convolutional layer with 64 filters and a 3x3 filter size. Again, ReLU is used as the activation function.\n",
    "\n",
    "**layers.Conv2D(64, (3, 3), activation='relu'):** This line adds the third convolutional layer with the same configuration as the second one.\n",
    "\n",
    "**2. Max Pooling Layers:**\n",
    "\n",
    "**layers.MaxPooling2D((2, 2)):** These layers perform max pooling with a pool size of 2x2 pixels. Max pooling reduces the spatial dimensions of the input volume, which helps in reducing computation and controlling overfitting.\n",
    "\n",
    "**3. Flatten Layer:**\n",
    "\n",
    "**layers.Flatten():** This layer flattens the 3D output from the convolutional layers into a 1D vector. This is necessary to connect the convolutional layers to the fully connected layers.\n",
    "\n",
    "**4. Dense Layers:**\n",
    "\n",
    "**layers.Dense(64, activation='relu'):** This line adds a fully connected (dense) layer with 64 neurons and ReLU activation function.\n",
    "\n",
    "**layers.Dense(10):** This line adds the output layer with 10 neurons, representing the 10 classes in the CIFAR-10 dataset. There is no activation function specified for this layer, which means it will output raw logits."
   ]
  },
  {
   "cell_type": "code",
   "execution_count": 6,
   "metadata": {
    "editable": false,
    "execution": {
     "iopub.execute_input": "2024-04-06T05:49:48.720573Z",
     "iopub.status.busy": "2024-04-06T05:49:48.719605Z",
     "iopub.status.idle": "2024-04-06T05:49:48.735506Z",
     "shell.execute_reply": "2024-04-06T05:49:48.734134Z",
     "shell.execute_reply.started": "2024-04-06T05:49:48.720536Z"
    },
    "id": "iLGx7bMmhA90"
   },
   "outputs": [],
   "source": [
    "# Compile the model\n",
    "model.compile(optimizer='adam',\n",
    "              loss=tf.keras.losses.SparseCategoricalCrossentropy(from_logits=True),\n",
    "              metrics=['accuracy'])"
   ]
  },
  {
   "cell_type": "markdown",
   "metadata": {
    "editable": false,
    "id": "jXwYbULdjxxp"
   },
   "source": [
    "This code block compiles the defined model, specifying the optimizer, loss function, and evaluation metrics. Let's break it down:\n",
    "\n",
    "**Optimizer:**\n",
    "\n",
    "**optimizer='adam':** Adam (Adaptive Moment Estimation) is an optimization algorithm commonly used for training neural networks. It adapts the learning rate during training, making it suitable for a wide range of problems. Here, we're using Adam as the optimizer to update the weights of the neural network during training.\n",
    "Loss Function:\n",
    "\n",
    "**loss=tf.keras.losses.SparseCategoricalCrossentropy(from_logits=True):** This line specifies the loss function used to compute the difference between the model's predictions and the actual labels during training.\n",
    "SparseCategoricalCrossentropy is a loss function commonly used for multi-class classification problems where the labels are integers (e.g., 0, 1, 2, ...).\n",
    "from_logits=True indicates that the model's output logits (raw predictions) are used directly without applying a softmax activation function beforehand. This is often more numerically stable and efficient.\n",
    "\n",
    "**Metrics:**\n",
    "\n",
    "**metrics=['accuracy']:** During training, it's useful to monitor certain metrics to evaluate the performance of the model. Here, we're specifying that we want to track the accuracy of the model on the training and validation datasets. The accuracy metric measures the proportion of correctly classified samples.\n",
    "\n",
    "By compiling the model with the specified optimizer, loss function, and metrics, it is ready to be trained on the training data. During training, the optimizer will minimize the specified loss function, and the model's performance will be evaluated based on the specified metrics."
   ]
  },
  {
   "cell_type": "code",
   "execution_count": 6,
   "metadata": {
    "colab": {
     "base_uri": "https://localhost:8080/"
    },
    "editable": false,
    "execution": {
     "iopub.execute_input": "2024-04-06T05:49:52.959335Z",
     "iopub.status.busy": "2024-04-06T05:49:52.958937Z",
     "iopub.status.idle": "2024-04-06T05:56:21.866598Z",
     "shell.execute_reply": "2024-04-06T05:56:21.865714Z",
     "shell.execute_reply.started": "2024-04-06T05:49:52.959305Z"
    },
    "id": "sUn8uu-RhDVm",
    "outputId": "bec8d4d4-784e-4513-8591-97d9835d55e2"
   },
   "outputs": [
    {
     "name": "stdout",
     "output_type": "stream",
     "text": [
      "Epoch 1/10\n",
      "\u001b[1m1563/1563\u001b[0m \u001b[32m━━━━━━━━━━━━━━━━━━━━\u001b[0m\u001b[37m\u001b[0m \u001b[1m40s\u001b[0m 25ms/step - accuracy: 0.3487 - loss: 1.7522 - val_accuracy: 0.5286 - val_loss: 1.3151\n",
      "Epoch 2/10\n",
      "\u001b[1m1563/1563\u001b[0m \u001b[32m━━━━━━━━━━━━━━━━━━━━\u001b[0m\u001b[37m\u001b[0m \u001b[1m37s\u001b[0m 24ms/step - accuracy: 0.5684 - loss: 1.2158 - val_accuracy: 0.5890 - val_loss: 1.1529\n",
      "Epoch 3/10\n",
      "\u001b[1m1563/1563\u001b[0m \u001b[32m━━━━━━━━━━━━━━━━━━━━\u001b[0m\u001b[37m\u001b[0m \u001b[1m37s\u001b[0m 24ms/step - accuracy: 0.6354 - loss: 1.0368 - val_accuracy: 0.6357 - val_loss: 1.0412\n",
      "Epoch 4/10\n",
      "\u001b[1m1563/1563\u001b[0m \u001b[32m━━━━━━━━━━━━━━━━━━━━\u001b[0m\u001b[37m\u001b[0m \u001b[1m42s\u001b[0m 24ms/step - accuracy: 0.6772 - loss: 0.9226 - val_accuracy: 0.6660 - val_loss: 0.9619\n",
      "Epoch 5/10\n",
      "\u001b[1m1563/1563\u001b[0m \u001b[32m━━━━━━━━━━━━━━━━━━━━\u001b[0m\u001b[37m\u001b[0m \u001b[1m36s\u001b[0m 23ms/step - accuracy: 0.7056 - loss: 0.8445 - val_accuracy: 0.6857 - val_loss: 0.9100\n",
      "Epoch 6/10\n",
      "\u001b[1m1563/1563\u001b[0m \u001b[32m━━━━━━━━━━━━━━━━━━━━\u001b[0m\u001b[37m\u001b[0m \u001b[1m37s\u001b[0m 24ms/step - accuracy: 0.7280 - loss: 0.7801 - val_accuracy: 0.7033 - val_loss: 0.8738\n",
      "Epoch 7/10\n",
      "\u001b[1m1563/1563\u001b[0m \u001b[32m━━━━━━━━━━━━━━━━━━━━\u001b[0m\u001b[37m\u001b[0m \u001b[1m41s\u001b[0m 23ms/step - accuracy: 0.7401 - loss: 0.7442 - val_accuracy: 0.7051 - val_loss: 0.8719\n",
      "Epoch 8/10\n",
      "\u001b[1m1563/1563\u001b[0m \u001b[32m━━━━━━━━━━━━━━━━━━━━\u001b[0m\u001b[37m\u001b[0m \u001b[1m41s\u001b[0m 23ms/step - accuracy: 0.7555 - loss: 0.6978 - val_accuracy: 0.7166 - val_loss: 0.8325\n",
      "Epoch 9/10\n",
      "\u001b[1m1563/1563\u001b[0m \u001b[32m━━━━━━━━━━━━━━━━━━━━\u001b[0m\u001b[37m\u001b[0m \u001b[1m36s\u001b[0m 23ms/step - accuracy: 0.7681 - loss: 0.6605 - val_accuracy: 0.7181 - val_loss: 0.8354\n",
      "Epoch 10/10\n",
      "\u001b[1m1563/1563\u001b[0m \u001b[32m━━━━━━━━━━━━━━━━━━━━\u001b[0m\u001b[37m\u001b[0m \u001b[1m40s\u001b[0m 23ms/step - accuracy: 0.7781 - loss: 0.6293 - val_accuracy: 0.7025 - val_loss: 0.8917\n"
     ]
    }
   ],
   "source": [
    "# Train the model\n",
    "history = model.fit(train_images, train_labels, epochs=10,\n",
    "                    validation_data=(test_images, test_labels))"
   ]
  },
  {
   "cell_type": "markdown",
   "metadata": {
    "editable": false,
    "id": "Xl-WClz8nZiR"
   },
   "source": [
    "This code block trains the compiled model using the training data and evaluates it on the validation data. Let's break it down:\n",
    "\n",
    "Training:\n",
    "\n",
    "model.fit(train_images, train_labels, epochs=10, validation_data=(test_images, test_labels)): This function trains the model on the provided training data (train_images, train_labels).\n",
    "epochs=10: Specifies the number of times the entire dataset will be passed forward and backward through the neural network during training. Each pass through the entire dataset is referred to as an epoch. Here, we're training the model for 10 epochs.\n",
    "validation_data=(test_images, test_labels): During training, it's common to monitor the performance of the model on a separate dataset called the validation set. In this case, we're using the validation data (test_images, test_labels) to evaluate the model after each epoch. The model's performance on the validation set helps us monitor for overfitting (when the model performs well on the training data but not on unseen data).\n",
    "History:\n",
    "\n",
    "history: After training completes, this variable stores the training metrics (e.g., loss and accuracy) and validation metrics (if provided) for each epoch. It provides useful information for visualizing and analyzing the training process.\n",
    "By calling model.fit(), the model iteratively adjusts its weights based on the training data, with the goal of minimizing the specified loss function. At the end of each epoch, the model's performance is evaluated on the validation data, providing insight into its generalization ability. The training process continues for the specified number of epochs, and the history variable stores the training progress for further analysis."
   ]
  },
  {
   "cell_type": "code",
   "execution_count": 7,
   "metadata": {
    "colab": {
     "base_uri": "https://localhost:8080/"
    },
    "editable": false,
    "execution": {
     "iopub.execute_input": "2024-04-06T06:00:42.126677Z",
     "iopub.status.busy": "2024-04-06T06:00:42.126250Z",
     "iopub.status.idle": "2024-04-06T06:00:44.876521Z",
     "shell.execute_reply": "2024-04-06T06:00:44.875354Z",
     "shell.execute_reply.started": "2024-04-06T06:00:42.126618Z"
    },
    "id": "O8eDXDbxiEOd",
    "outputId": "7ad22b21-369a-47f3-85e3-6e9526d924ee"
   },
   "outputs": [
    {
     "name": "stdout",
     "output_type": "stream",
     "text": [
      "313/313 - 2s - 8ms/step - accuracy: 0.7025 - loss: 0.8917\n",
      "\n",
      "Test accuracy: 0.7024999856948853\n"
     ]
    }
   ],
   "source": [
    "# Evaluate the model\n",
    "test_loss, test_acc = model.evaluate(test_images,  test_labels, verbose=2)\n",
    "print('\\nTest accuracy:', test_acc)"
   ]
  },
  {
   "cell_type": "markdown",
   "metadata": {
    "editable": false,
    "id": "-VJUJIQPo2Cz"
   },
   "source": [
    "This code block evaluates the trained model on the test dataset to assess its performance. Let's break it down:\n",
    "\n",
    "Model Evaluation:\n",
    "model.evaluate(test_images, test_labels, verbose=2): This function evaluates the trained model on the provided test dataset (test_images, test_labels).\n",
    "test_images: The images from the test dataset.\n",
    "test_labels: The corresponding labels for the test images.\n",
    "verbose=2: Specifies the verbosity mode. In this case, verbose=2 means showing one line per epoch.\n",
    "Test Loss and Accuracy:\n",
    "test_loss, test_acc: After evaluation, the function returns the test loss and test accuracy.\n",
    "test_loss: The calculated loss on the test dataset.\n",
    "test_acc: The calculated accuracy on the test dataset.\n",
    "Printing Test Accuracy:\n",
    "print('\\nTest accuracy:', test_acc): This line prints the test accuracy of the model.\n",
    "During evaluation, the model applies its learned parameters to the test dataset and computes the loss and accuracy. The test loss represents the performance of the model in terms of the specified loss function on unseen data, while the test accuracy indicates the percentage of correctly classified samples in the test dataset. Printing the test accuracy allows us to understand how well the model generalizes to new, unseen data."
   ]
  },
  {
   "cell_type": "code",
   "execution_count": 8,
   "metadata": {
    "colab": {
     "base_uri": "https://localhost:8080/",
     "height": 455
    },
    "editable": false,
    "execution": {
     "iopub.execute_input": "2024-04-06T06:00:49.112897Z",
     "iopub.status.busy": "2024-04-06T06:00:49.112176Z",
     "iopub.status.idle": "2024-04-06T06:00:49.416684Z",
     "shell.execute_reply": "2024-04-06T06:00:49.415382Z",
     "shell.execute_reply.started": "2024-04-06T06:00:49.112854Z"
    },
    "id": "DRkU9PuriFAV",
    "outputId": "f5ec0aa1-39b9-43a7-b6c7-d958b7acf00d"
   },
   "outputs": [
    {
     "data": {
      "image/png": "[encoded data removed]",
      "text/plain": [
       "<Figure size 640x480 with 1 Axes>"
      ]
     },
     "metadata": {},
     "output_type": "display_data"
    }
   ],
   "source": [
    "# Plot training history\n",
    "plt.plot(history.history['accuracy'], label='accuracy')\n",
    "plt.plot(history.history['val_accuracy'], label = 'val_accuracy')\n",
    "plt.xlabel('Epoch')\n",
    "plt.ylabel('Accuracy')\n",
    "plt.ylim([0, 1])\n",
    "plt.legend(loc='lower right')\n",
    "plt.show()"
   ]
  }
 ],
 "metadata": {
  "colab": {
   "provenance": []
  },
  "kaggle": {
   "accelerator": "none",
   "dataSources": [],
   "isGpuEnabled": false,
   "isInternetEnabled": true,
   "language": "python",
   "sourceType": "notebook"
  },
  "kernelspec": {
   "display_name": "Python 3 (ipykernel)",
   "language": "python",
   "name": "python3"
  },
  "language_info": {
   "codemirror_mode": {
    "name": "ipython",
    "version": 3
   },
   "file_extension": ".py",
   "mimetype": "text/x-python",
   "name": "python",
   "nbconvert_exporter": "python",
   "pygments_lexer": "ipython3",
   "version": "3.11.5"
  }
 },
 "nbformat": 4,
 "nbformat_minor": 4
}
