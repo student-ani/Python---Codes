{
 "cells": [
  {
   "cell_type": "code",
   "execution_count": null,
   "metadata": {},
   "outputs": [],
   "source": [
    "import requests\n",
    "response = requests.get(\"https://newsapi.org/v2/everything?q=apple&from=2024-09-29&to=2024-09-29&sortBy=popularity&apiKey=558bc6392f8146d291095ce5a5bd52a5\")\n",
    "data = response.json()\n",
    "print(data)"
   ]
  },
  {
   "cell_type": "code",
   "execution_count": 4,
   "metadata": {},
   "outputs": [
    {
     "name": "stdout",
     "output_type": "stream",
     "text": [
      "{'status': 'ok', 'totalResults': 360, 'articles': [{'source': {'id': None, 'name': 'Yahoo Entertainment'}, 'author': None, 'title': 'India to probe fire at Tata plant making components for Apple iPhones', 'description': None, 'url': 'https://consent.yahoo.com/v2/collectConsent?sessionId=1_cc-session_3639f6c3-0fec-445d-ab79-7e32750ccf33', 'urlToImage': None, 'publishedAt': '2024-09-29T08:40:52Z', 'content': \"If you click 'Accept all', we and our partners, including 240 who are part of the IAB Transparency &amp; Consent Framework, will also store and/or access information on a device (in other words, use … [+678 chars]\"}, {'source': {'id': None, 'name': 'Project Syndicate'}, 'author': 'Taniguchi Tomohiko', 'title': 'Ishiba Shigeru’s Premiership Could Be Short-Lived', 'description': 'For Japan’s new 67-year-old prime minister, ascending to the post is the realization of a long-held dream. But his political star will likely soon fall – perhaps rapidly – owing both to policy weaknesses and questionable management skills.', 'url': 'https://www.project-syndicate.org/commentary/japan-new-ishiba-government-will-be-short-lived-by-taniguchi-tomohiko-2024-09', 'urlToImage': 'https://webapi.project-syndicate.org/library/117e90015f3860f4bf4025cdf0e8a0ca.2-1-super.1.jpg', 'publishedAt': '2024-09-29T08:22:47Z', 'content': 'For Japans new 67-year-old prime minister, ascending to the post is the realization of a long-held dream. But his political star will likely soon fall perhaps rapidly owing both to policy weaknesses … [+6622 chars]'}, {'source': {'id': None, 'name': 'Directoalpaladar.com'}, 'author': 'Inés Vazquez Noya', 'title': 'Seis recetas irresistibles de aderezos con yogur para realzar tus ensaladas y más', 'description': 'Usar yogur como aderezo no solo mejora el perfil nutricional de tus platos, sino que también les da un toque fresco y cremoso. Es una opción genial y de mis preferidas por varias razones. Por un lado, es una opción más ligera y nutritiva en comparación con ot…', 'url': 'https://www.directoalpaladar.com/recetario/seis-recetas-irresistibles-aderezos-yogur-para-realzar-tus-ensaladas', 'urlToImage': 'https://i.blogs.es/2d1af3/dap2-2/840_560.jpg', 'publishedAt': '2024-09-29T09:01:18Z', 'content': 'Usar yogur como aderezo no solo mejora el perfil nutricional de tus platos, sino que también les da un toque fresco y cremoso. Es una opción genial y de mis preferidas por varias razones. Por un lado… [+8077 chars]'}, {'source': {'id': None, 'name': 'GSMArena.com'}, 'author': 'Peter', 'title': 'Weekly poll: are you considering the Samsung Galaxy S24 FE?', 'description': 'Does the Samsung Galaxy S24 FE need to exist? It all comes down to price – a 256GB unit will cost you $710 in the US with no promotions and discounts, a Galaxy S24+ 256GB is $1,000. The S24+ is certainly the better phone, but whether it is $290 better remains…', 'url': 'https://www.gsmarena.com/weekly_poll_are_you_considering_the_samsung_galaxy_s24_fe-news-64707.php', 'urlToImage': 'https://fdn.gsmarena.com/imgroot/news/24/09/weekly-poll-samsung-galaxy-s24-fe/-952x498w6/gsmarena_000.jpg', 'publishedAt': '2024-09-29T08:32:01Z', 'content': 'Does the Samsung Galaxy S24 FE need to exist? It all comes down to price a 256GB unit will cost you $710 in the US with no promotions and discounts, a Galaxy S24+ 256GB is $1,000. The S24+ is certain… [+4726 chars]'}, {'source': {'id': None, 'name': 'Huffingtonpost.es'}, 'author': 'Redacción HuffPost', 'title': 'China prepara su mayor golpe a Europa: 36.000 millones para olvidarse de todos los países', 'description': '<![CDATA[<p>Las pugnas que hace décadas se enfocaban en el avance militar, científico o espacial, han ido derivando con el transcurso de los años -y la llegada de la revolución tecnológica-, en una lucha encarnizada entre los principales actores geopolíticos …', 'url': 'https://www.huffingtonpost.es/global/china-prepara-mayor-golpe-europa-36000-millones-olvidarse-todos-paisesbr.html', 'urlToImage': 'https://img.huffingtonpost.es/files/og_thumbnail/uploads/2024/09/29/planta-de-produccion-de-chips-en-china.jpeg', 'publishedAt': '2024-09-29T08:43:36Z', 'content': 'Las pugnas que hace décadas se enfocaban en el avance militar, científico o espacial, han ido derivando con el transcurso de los años -y la llegada de la revolución tecnológica-, en una lucha encarni… [+2677 chars]'}, {'source': {'id': None, 'name': 'BusinessLine'}, 'author': 'PTI', 'title': \"ASUS aims to become India's top PC brand, bets on aggressive retail expansion\", 'description': 'ASUS aims to open stores in 600 districts in India in the next two years, says Arnold Su, Vice President, Consumer & Gaming PC, ASUS India', 'url': 'https://www.thehindubusinessline.com/info-tech/asus-aims-to-become-indias-top-pc-brand-bets-on-aggressive-retail-expansion/article68697353.ece', 'urlToImage': 'https://bl-i.thgim.com/public/incoming/z54g8q/article68697404.ece/alternates/LANDSCAPE_1200/IMG_bl05_brandline_promo_2_1_2SCC5A1R.jpg', 'publishedAt': '2024-09-29T09:28:27Z', 'content': \"Taiwanese tech giant ASUS aims to become India's top PC (personal computer) brand having 25-30 per cent market share in two years, with aggressive retail expansion as one of its key strategies.\\r\\nASUS… [+1804 chars]\"}, {'source': {'id': None, 'name': 'Www.nrc.nl'}, 'author': 'Charlie Ubbens', 'title': 'Meer dan 100 doden door overstromingen\\xa0in Nepal', 'description': 'Moesson: Door aanhoudende regen treden rivieren buiten hun oevers. In het Himalaya-gebergte worden meer dan zestig mensen vermist. Dit zal naar verwachting verder toenemen.', 'url': 'https://www.nrc.nl/nieuws/2024/09/29/meer-dan-100-doden-door-overstromingen-in-nepal-a4867544', 'urlToImage': 'https://images.nrc.nl/FQ3NrZl4tzlnOhL4QxV6F9BQH-I=/1200x627/smart/filters:no_upscale()/s3/static.nrc.nl/wp-content/uploads/2024/09/29085937/TOPSHOT-NEPAL-WEATHER-FLOOD_63521337-1.jpg', 'publishedAt': '2024-09-29T07:10:25Z', 'content': 'Vanwege zware overstromingen in Nepal zijn zeker 104 mensen omgekomen. Dat schrijft persbureau AFP zondag op basis van berichtgeving van het Nepalese ministerie van Binnenlandse Zaken. Het dodental l… [+1038 chars]'}, {'source': {'id': None, 'name': 'Globalsecurity.org'}, 'author': 'John Pike', 'title': \"Indian border fence cutting off crucial supply route to Myanmar's Sagaing region\", 'description': \"India is erecting a fence along its border with Myanmar, which residents of Myanmar's Sagaing region say is cutting off trade routes and driving up the price of goods.\", 'url': 'https://www.globalsecurity.org/wmd/library/news/myanmar/2024/myanmar-240928-rfa01.htm', 'urlToImage': None, 'publishedAt': '2024-09-29T07:44:52Z', 'content': 'Meanwhile, India reportedly extends invitation to rebel forces to government-funded seminar.\\r\\nBy RFA Burmese 2024.09.28 -- India is erecting a fence along its border with Myanmar, which residents of … [+5189 chars]'}, {'source': {'id': None, 'name': 'Livemint'}, 'author': 'Manu Joseph', 'title': 'Manu Joseph: How could a startup religion succeed in ancient times?', 'description': 'William Dalrymple’s new book brings back this question. It’s plausible that in ancient times, a new religion like Buddhism could survive its infancy because it wasn’t really seen as a faith.', 'url': 'https://www.livemint.com/opinion/online-views/faith-buddhism-christianity-spirituality-buddha-caste-rich-middle-class-brahmins-11727595055290.html', 'urlToImage': 'https://www.livemint.com/lm-img/img/2024/09/29/1600x900/ge0dd7afcad698e3963b831763b417519df27a4dfc7b929d4e_1727595408782_1727595408970.jpg', 'publishedAt': '2024-09-29T08:30:15Z', 'content': 'In his latest book, The Golden Road: How Ancient India Transformed the World, William Dalrymple argues that India influenced the world immensely, even more than what some Indians in search of cultura… [+5285 chars]'}, {'source': {'id': None, 'name': 'International Business Times'}, 'author': 'Anup OJHA', 'title': 'Nepal Dam-building Spree Powers Electric Vehicle Boom', 'description': \"Taxi driver Surendra Parajuli's decision to buy an electric cab would have been unthinkable a decade ago, when chronic power cuts left Nepalis unable to light their homes at night.\", 'url': 'https://www.ibtimes.com/nepal-dam-building-spree-powers-electric-vehicle-boom-3744836', 'urlToImage': 'https://d.ibtimes.com/en/full/4550654/kathmandu-ground-zero-incipient-transport-revolution-set-see-clapped-out-cars-that-clog-its.jpg', 'publishedAt': '2024-09-29T04:06:11Z', 'content': \"Taxi driver Surendra Parajuli's decision to buy an electric cab would have been unthinkable a decade ago, when chronic power cuts left Nepalis unable to light their homes at night.\\r\\nBut a dam-buildin… [+4590 chars]\"}]}\n"
     ]
    }
   ],
   "source": [
    "import requests\n",
    "url='https://newsapi.org/v2/everything'\n",
    "parms={\n",
    "    'q':'India',\n",
    "    'from':'2024-09-29',\n",
    "    'apikey':'558bc6392f8146d291095ce5a5bd52a5',\n",
    "    'pagesize':10\n",
    "}\n",
    "response=requests.get(url,params=parms)\n",
    "data=response.json()\n",
    "print(data)"
   ]
  }
 ],
 "metadata": {
  "kernelspec": {
   "display_name": "Python 3",
   "language": "python",
   "name": "python3"
  },
  "language_info": {
   "codemirror_mode": {
    "name": "ipython",
    "version": 3
   },
   "file_extension": ".py",
   "mimetype": "text/x-python",
   "name": "python",
   "nbconvert_exporter": "python",
   "pygments_lexer": "ipython3",
   "version": "3.12.4"
  }
 },
 "nbformat": 4,
 "nbformat_minor": 2
}
