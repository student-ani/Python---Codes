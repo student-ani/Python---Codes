{
 "cells": [
  {
   "cell_type": "markdown",
   "metadata": {},
   "source": [
    "Machine Learning Algorithms with Scikit-Learn"
   ]
  },
  {
   "cell_type": "markdown",
   "metadata": {},
   "source": [
    "1. Linear Regression"
   ]
  },
  {
   "cell_type": "code",
   "execution_count": 7,
   "metadata": {},
   "outputs": [
    {
     "name": "stdout",
     "output_type": "stream",
     "text": [
      "Mean Squared Error: 0.3459592192751477\n"
     ]
    }
   ],
   "source": [
    "from sklearn.model_selection import train_test_split\n",
    "from sklearn.linear_model import LinearRegression\n",
    "from sklearn.metrics import mean_squared_error\n",
    "\n",
    "#Generate synthetic data\n",
    "import numpy as np\n",
    "x=np.random.rand(100,1)*10\n",
    "y=2.5*x+np.random.rand(100,1)*2\n",
    "\n",
    "#split dataset into train and test sets\n",
    "x_train, x_test, y_train, y_test=train_test_split(x,y,test_size=0.2,random_state=42)\n",
    "\n",
    "#Training the model\n",
    "model=LinearRegression()\n",
    "model.fit(x_train,y_train)\n",
    "\n",
    "#making prediction\n",
    "y_pred = model.predict(x_test)\n",
    "\n",
    "#Evaluate the model\n",
    "mse = mean_squared_error(y_test,y_pred)\n",
    "print(f'Mean Squared Error: {mse}')\n"
   ]
  },
  {
   "cell_type": "code",
   "execution_count": 9,
   "metadata": {},
   "outputs": [
    {
     "data": {
      "text/plain": [
       "array([[ 6.14089683],\n",
       "       [24.68477743],\n",
       "       [ 5.97791304],\n",
       "       [ 4.43846471],\n",
       "       [10.94519856],\n",
       "       [ 2.50432225],\n",
       "       [15.35018087],\n",
       "       [13.24179233],\n",
       "       [20.92573378],\n",
       "       [24.47644419],\n",
       "       [19.02245805],\n",
       "       [13.26508525],\n",
       "       [22.7039127 ],\n",
       "       [15.28666515],\n",
       "       [10.72724141],\n",
       "       [10.40894776],\n",
       "       [12.00793012],\n",
       "       [14.7842203 ],\n",
       "       [23.36006354],\n",
       "       [13.55813646]])"
      ]
     },
     "execution_count": 9,
     "metadata": {},
     "output_type": "execute_result"
    }
   ],
   "source": [
    "y_pred"
   ]
  },
  {
   "cell_type": "code",
   "execution_count": 8,
   "metadata": {},
   "outputs": [
    {
     "data": {
      "text/plain": [
       "array([[ 5.44944115],\n",
       "       [25.35136778],\n",
       "       [ 5.72454902],\n",
       "       [ 3.61164045],\n",
       "       [11.89251235],\n",
       "       [ 1.96150467],\n",
       "       [15.87969154],\n",
       "       [12.79435689],\n",
       "       [20.35707705],\n",
       "       [24.42120629],\n",
       "       [18.51251685],\n",
       "       [12.39038777],\n",
       "       [21.85475216],\n",
       "       [15.49470517],\n",
       "       [ 9.73507864],\n",
       "       [11.03372804],\n",
       "       [11.34228394],\n",
       "       [15.01793096],\n",
       "       [23.75019483],\n",
       "       [13.3050311 ]])"
      ]
     },
     "execution_count": 8,
     "metadata": {},
     "output_type": "execute_result"
    }
   ],
   "source": [
    "y_test"
   ]
  },
  {
   "cell_type": "markdown",
   "metadata": {},
   "source": [
    "Logistic Regression"
   ]
  },
  {
   "cell_type": "code",
   "execution_count": 15,
   "metadata": {},
   "outputs": [
    {
     "name": "stdout",
     "output_type": "stream",
     "text": [
      "Accuracy: 1.0\n"
     ]
    }
   ],
   "source": [
    "from sklearn.datasets import load_iris\n",
    "from sklearn.model_selection import train_test_split\n",
    "from sklearn.linear_model import LogisticRegression\n",
    "from sklearn.metrics import accuracy_score\n",
    "\n",
    "#load the dataset\n",
    "iris=load_iris()\n",
    "x=iris.data\n",
    "y=iris.target\n",
    "\n",
    "#using 2 classes for binary classification/3\n",
    "x = x[y!=2]\n",
    "y = y[y!=2]\n",
    "\n",
    "#Splitting dataset into train and test\n",
    "x_train, x_test, y_train, y_test=train_test_split(x,y,test_size=0.2,random_state=42)\n",
    "\n",
    "#training the model\n",
    "model=LogisticRegression()\n",
    "model.fit(x_train,y_train)\n",
    "\n",
    "#making prediction\n",
    "y_pred=model.predict(x_test)\n",
    "\n",
    "#Evaluate the model\n",
    "accuracy = accuracy_score(y_test,y_pred)\n",
    "print(f'Accuracy: {accuracy}')\n"
   ]
  },
  {
   "cell_type": "markdown",
   "metadata": {},
   "source": [
    "Decision Tree"
   ]
  },
  {
   "cell_type": "code",
   "execution_count": 16,
   "metadata": {},
   "outputs": [
    {
     "name": "stdout",
     "output_type": "stream",
     "text": [
      "Accuracy: 1.0\n"
     ]
    }
   ],
   "source": [
    "from sklearn.datasets import load_iris\n",
    "from sklearn.model_selection import train_test_split\n",
    "from sklearn.tree import DecisionTreeClassifier\n",
    "from sklearn.metrics import accuracy_score\n",
    "\n",
    "#load the dataset\n",
    "iris=load_iris()\n",
    "x=iris.data\n",
    "y=iris.target\n",
    "\n",
    "#using 2 classes for binary classification/3\n",
    "x = x[y!=2]\n",
    "y = y[y!=2]\n",
    "\n",
    "#Splitting dataset into train and test\n",
    "x_train, x_test, y_train, y_test=train_test_split(x,y,test_size=0.2,random_state=42)\n",
    "\n",
    "#training the model\n",
    "model=DecisionTreeClassifier()\n",
    "model.fit(x_train,y_train)\n",
    "\n",
    "#making prediction\n",
    "y_pred=model.predict(x_test)\n",
    "\n",
    "#Evaluate the model\n",
    "accuracy = accuracy_score(y_test,y_pred)\n",
    "print(f'Accuracy: {accuracy}')\n"
   ]
  },
  {
   "cell_type": "markdown",
   "metadata": {},
   "source": [
    "Support Vector Machine(SVM)"
   ]
  },
  {
   "cell_type": "code",
   "execution_count": 17,
   "metadata": {},
   "outputs": [
    {
     "name": "stdout",
     "output_type": "stream",
     "text": [
      "Accuracy: 1.0\n"
     ]
    }
   ],
   "source": [
    "from sklearn.datasets import load_iris\n",
    "from sklearn.model_selection import train_test_split\n",
    "from sklearn.svm import SVC\n",
    "from sklearn.metrics import accuracy_score\n",
    "\n",
    "#load the dataset\n",
    "iris=load_iris()\n",
    "x=iris.data\n",
    "y=iris.target\n",
    "\n",
    "#using 2 classes for binary classification/3\n",
    "x = x[y!=2]\n",
    "y = y[y!=2]\n",
    "\n",
    "#Splitting dataset into train and test\n",
    "x_train, x_test, y_train, y_test=train_test_split(x,y,test_size=0.2,random_state=42)\n",
    "\n",
    "#training the model\n",
    "model=SVC()\n",
    "model.fit(x_train,y_train)\n",
    "\n",
    "#making prediction\n",
    "y_pred=model.predict(x_test)\n",
    "\n",
    "#Evaluate the model\n",
    "accuracy = accuracy_score(y_test,y_pred)\n",
    "print(f'Accuracy: {accuracy}')\n"
   ]
  }
 ],
 "metadata": {
  "kernelspec": {
   "display_name": "Python 3",
   "language": "python",
   "name": "python3"
  },
  "language_info": {
   "codemirror_mode": {
    "name": "ipython",
    "version": 3
   },
   "file_extension": ".py",
   "mimetype": "text/x-python",
   "name": "python",
   "nbconvert_exporter": "python",
   "pygments_lexer": "ipython3",
   "version": "3.12.4"
  }
 },
 "nbformat": 4,
 "nbformat_minor": 2
}
