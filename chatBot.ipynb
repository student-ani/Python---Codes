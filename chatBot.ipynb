{
 "cells": [
  {
   "cell_type": "code",
   "execution_count": 10,
   "metadata": {},
   "outputs": [
    {
     "name": "stderr",
     "output_type": "stream",
     "text": [
      "[nltk_data] Error loading punkt: <urlopen error [Errno 11001]\n",
      "[nltk_data]     getaddrinfo failed>\n"
     ]
    }
   ],
   "source": [
    "import pandas as pd\n",
    "import nltk\n",
    "from sklearn.feature_extraction.text import TfidfVectorizer\n",
    "from sklearn.naive_bayes import MultinomialNB\n",
    "from sklearn.pipeline import make_pipeline\n",
    "from sklearn.model_selection import train_test_split\n",
    "import dash\n",
    "from dash import html, dcc\n",
    "from dash.dependencies import Input, Output, State\n",
    "import random\n",
    "\n",
    "# Load the dataset\n",
    "data = pd.read_csv(\"C:/Users/hp/Downloads/My_Work/chatbot_dataset.csv\")\n",
    "\n",
    "#Preprocess the data\n",
    "nltk.download('punkt')\n",
    "data['Question']=data['Question'].apply(lambda x: ' '.join(nltk.word_tokenize(x.lower())))\n",
    "\n",
    "#split the data into training and test sets\n",
    "x_train, x_test, y_train, y_test = train_test_split(data['Question'], data['Answer'], test_size=0.2, random_state=42)\n",
    "\n",
    "# create a model pipeline\n",
    "model = make_pipeline(TfidfVectorizer(), MultinomialNB())\n",
    "model.fit(x_train, y_train)\n",
    "\n",
    "# Function to get a response from chatbot\n",
    "def get_response(question):\n",
    "    question = ' '.join(nltk.word_tokenize(question.lower()))\n",
    "    answer = model.predict([question])[0]\n",
    "    return answer\n",
    "\n",
    "# initialize the dash app\n",
    "app = dash.Dash(__name__)\n",
    "\n",
    "#define layout\n",
    "app.layout = html.Div([\n",
    "    html.H1(\"Chatbot\", style={'textAlign': 'center'}),\n",
    "    dcc.Textarea(\n",
    "        id='user-input',\n",
    "        value = 'Type Your Query....',\n",
    "        style = {'width': '100%','height':100}\n",
    "    ),\n",
    "    html.Button('Submit', id='submit-button', n_clicks=0),\n",
    "    html.Div(id='chatbot-output', style={'padding': '10px'})\n",
    "])\n",
    "\n",
    "# define callback to update response\n",
    "@app.callback(\n",
    "    Output('chatbot-output', 'children'),\n",
    "    Input('sunmit-button','n_clicks'),\n",
    "    [dash.dependencies.State('user-input','value')]\n",
    ")\n",
    "def update_output(n_clicks, user_input):\n",
    "    if n_clicks >0:\n",
    "        return html.Div([\n",
    "            html.P(f\"You: {user_input}\", style={'margin': '10px'}),\n",
    "            html.P(f\"Bot: I am training now, ask something else.\", style={'margin': '10px','backgroundColor':'#f0f0f0', 'padding': '10px'})\n",
    "            \n",
    "        ])\n",
    "        return \"Ask me something!\"\n",
    "    \n",
    "    # run the app\n",
    "    if __name__ == '__main__':\n",
    "        app.run_server(debug=True)\n",
    "\n",
    "\n"
   ]
  }
 ],
 "metadata": {
  "kernelspec": {
   "display_name": "Python 3",
   "language": "python",
   "name": "python3"
  },
  "language_info": {
   "codemirror_mode": {
    "name": "ipython",
    "version": 3
   },
   "file_extension": ".py",
   "mimetype": "text/x-python",
   "name": "python",
   "nbconvert_exporter": "python",
   "pygments_lexer": "ipython3",
   "version": "3.12.4"
  }
 },
 "nbformat": 4,
 "nbformat_minor": 2
}
