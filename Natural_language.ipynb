{
 "cells": [
  {
   "cell_type": "code",
   "execution_count": 2,
   "metadata": {},
   "outputs": [
    {
     "name": "stderr",
     "output_type": "stream",
     "text": [
      "[nltk_data] Downloading package punkt to\n",
      "[nltk_data]     C:\\Users\\hp\\AppData\\Roaming\\nltk_data...\n"
     ]
    },
    {
     "name": "stdout",
     "output_type": "stream",
     "text": [
      "['Natural', 'Language', 'Processing', 'is', 'fascinating', '.']\n"
     ]
    },
    {
     "name": "stderr",
     "output_type": "stream",
     "text": [
      "[nltk_data]   Package punkt is already up-to-date!\n"
     ]
    }
   ],
   "source": [
    "import nltk\n",
    "nltk.download('punkt')\n",
    "from nltk.tokenize import word_tokenize\n",
    "\n",
    "text = 'Natural Language Processing is fascinating.'\n",
    "tokens = word_tokenize(text)\n",
    "print(tokens)"
   ]
  },
  {
   "cell_type": "code",
   "execution_count": 3,
   "metadata": {},
   "outputs": [
    {
     "name": "stdout",
     "output_type": "stream",
     "text": [
      "['run', 'ran', 'run']\n"
     ]
    }
   ],
   "source": [
    "from nltk.stem import PorterStemmer\n",
    "stemmer= PorterStemmer()\n",
    "words = [\"Running\",\"Ran\",\"Runs\"]\n",
    "stems = [stemmer.stem(word) for word in words]\n",
    "print(stems)"
   ]
  },
  {
   "cell_type": "code",
   "execution_count": 4,
   "metadata": {},
   "outputs": [
    {
     "name": "stdout",
     "output_type": "stream",
     "text": [
      "['Natural', 'Language', 'Processing', 'fascinating', '.']\n"
     ]
    },
    {
     "name": "stderr",
     "output_type": "stream",
     "text": [
      "[nltk_data] Downloading package stopwords to\n",
      "[nltk_data]     C:\\Users\\hp\\AppData\\Roaming\\nltk_data...\n",
      "[nltk_data]   Package stopwords is already up-to-date!\n"
     ]
    }
   ],
   "source": [
    "from nltk.corpus import stopwords\n",
    "nltk.download('stopwords')\n",
    "stop_words=set(stopwords.words('english'))\n",
    "filtered_text=[word for word in tokens if word.lower() not in stop_words]\n",
    "print(filtered_text)"
   ]
  },
  {
   "cell_type": "markdown",
   "metadata": {},
   "source": [
    "Create ChatBot"
   ]
  },
  {
   "cell_type": "code",
   "execution_count": 10,
   "metadata": {},
   "outputs": [
    {
     "name": "stdout",
     "output_type": "stream",
     "text": [
      "                                      Question  \\\n",
      "0                   introduction to the course   \n",
      "1  overview of data science and its importance   \n",
      "2    introduction to the data science workflow   \n",
      "3         key skills and tools in data science   \n",
      "4          where can i find my course videos ?   \n",
      "\n",
      "                                              Answer  \n",
      "0  Welcome to the data science course. Here you w...  \n",
      "1  Data science is crucial for making informed de...  \n",
      "2  The data science workflow includes data collec...  \n",
      "3  Important skills include programming, statisti...  \n",
      "4  You can find all your course videos on the Cip...  \n"
     ]
    },
    {
     "name": "stderr",
     "output_type": "stream",
     "text": [
      "[nltk_data] Downloading package punkt to\n",
      "[nltk_data]     C:\\Users\\hp\\AppData\\Roaming\\nltk_data...\n",
      "[nltk_data]   Package punkt is already up-to-date!\n"
     ]
    }
   ],
   "source": [
    "import pandas as pd\n",
    "\n",
    "data = pd.read_csv(\"C:/Users/hp/Downloads/My_Work/chatbot_dataset.csv\")\n",
    "nltk.download('punkt')\n",
    "data['Question']=data['Question'].apply(lambda x: ' '.join(nltk.word_tokenize(x.lower())))\n",
    "print(data.head())"
   ]
  },
  {
   "cell_type": "markdown",
   "metadata": {},
   "source": [
    "Vectorizing text data - TF-IDF(Term frequency-Inverse Document Frequency)"
   ]
  },
  {
   "cell_type": "code",
   "execution_count": 8,
   "metadata": {},
   "outputs": [
    {
     "name": "stdout",
     "output_type": "stream",
     "text": [
      "(48, 112)\n"
     ]
    }
   ],
   "source": [
    "from sklearn.feature_extraction.text import TfidfVectorizer\n",
    "\n",
    "vectorizer=TfidfVectorizer()\n",
    "x=vectorizer.fit_transform(data['Question'])\n",
    "print(x.shape)"
   ]
  },
  {
   "cell_type": "markdown",
   "metadata": {},
   "source": [
    "Text Classification Model"
   ]
  },
  {
   "cell_type": "code",
   "execution_count": 11,
   "metadata": {},
   "outputs": [
    {
     "name": "stdout",
     "output_type": "stream",
     "text": [
      "Model training Complete.\n"
     ]
    }
   ],
   "source": [
    "from sklearn.naive_bayes import MultinomialNB\n",
    "from sklearn.pipeline import make_pipeline\n",
    "from sklearn.model_selection import train_test_split\n",
    "\n",
    "#split the data into training and test sets\n",
    "x_train, x_test, y_train, y_test = train_test_split(data['Question'], data['Answer'], test_size=0.2, random_state=42)\n",
    "\n",
    "# create a model pipeline\n",
    "model = make_pipeline(TfidfVectorizer(), MultinomialNB())\n",
    "\n",
    "# Train the model\n",
    "model.fit(x_train, y_train)\n",
    "print(\"Model training Complete.\")"
   ]
  },
  {
   "cell_type": "markdown",
   "metadata": {},
   "source": [
    "Function to get Chatbot Response"
   ]
  },
  {
   "cell_type": "code",
   "execution_count": 12,
   "metadata": {},
   "outputs": [
    {
     "name": "stdout",
     "output_type": "stream",
     "text": [
      "Seaborn is a Python visualization library based on Matplotlib that provides a high-level interface for drawing attractive statistical graphics. This is covered in the Introduction to Matplotlib and Seaborn module.\n"
     ]
    }
   ],
   "source": [
    "# Function to get a response from chatbot\n",
    "def get_response(question):\n",
    "    question = ' '.join(nltk.word_tokenize(question.lower()))\n",
    "    answer = model.predict([question])[0]\n",
    "    return answer\n",
    "\n",
    "#Testing the function\n",
    "print(get_response(\"What is NLP?\"))"
   ]
  },
  {
   "cell_type": "markdown",
   "metadata": {},
   "source": [
    "Defining the Layout"
   ]
  },
  {
   "cell_type": "code",
   "execution_count": 14,
   "metadata": {},
   "outputs": [
    {
     "name": "stdout",
     "output_type": "stream",
     "text": [
      "Collecting dash\n",
      "  Downloading dash-2.17.1-py3-none-any.whl.metadata (10 kB)\n",
      "Requirement already satisfied: Flask<3.1,>=1.0.4 in c:\\users\\hp\\appdata\\local\\programs\\python\\python312\\lib\\site-packages (from dash) (3.0.3)\n",
      "Requirement already satisfied: Werkzeug<3.1 in c:\\users\\hp\\appdata\\local\\programs\\python\\python312\\lib\\site-packages (from dash) (3.0.2)\n",
      "Requirement already satisfied: plotly>=5.0.0 in c:\\users\\hp\\appdata\\local\\programs\\python\\python312\\lib\\site-packages (from dash) (5.22.0)\n",
      "Collecting dash-html-components==2.0.0 (from dash)\n",
      "  Downloading dash_html_components-2.0.0-py3-none-any.whl.metadata (3.8 kB)\n",
      "Collecting dash-core-components==2.0.0 (from dash)\n",
      "  Downloading dash_core_components-2.0.0-py3-none-any.whl.metadata (2.9 kB)\n",
      "Collecting dash-table==5.0.0 (from dash)\n",
      "  Downloading dash_table-5.0.0-py3-none-any.whl.metadata (2.4 kB)\n",
      "Collecting importlib-metadata (from dash)\n",
      "  Downloading importlib_metadata-8.0.0-py3-none-any.whl.metadata (4.6 kB)\n",
      "Requirement already satisfied: typing-extensions>=4.1.1 in c:\\users\\hp\\appdata\\local\\programs\\python\\python312\\lib\\site-packages (from dash) (4.11.0)\n",
      "Requirement already satisfied: requests in c:\\users\\hp\\appdata\\local\\programs\\python\\python312\\lib\\site-packages (from dash) (2.31.0)\n",
      "Collecting retrying (from dash)\n",
      "  Downloading retrying-1.3.4-py3-none-any.whl.metadata (6.9 kB)\n",
      "Requirement already satisfied: nest-asyncio in c:\\users\\hp\\appdata\\roaming\\python\\python312\\site-packages (from dash) (1.6.0)\n",
      "Requirement already satisfied: setuptools in c:\\users\\hp\\appdata\\local\\programs\\python\\python312\\lib\\site-packages (from dash) (69.2.0)\n",
      "Requirement already satisfied: Jinja2>=3.1.2 in c:\\users\\hp\\appdata\\local\\programs\\python\\python312\\lib\\site-packages (from Flask<3.1,>=1.0.4->dash) (3.1.3)\n",
      "Requirement already satisfied: itsdangerous>=2.1.2 in c:\\users\\hp\\appdata\\local\\programs\\python\\python312\\lib\\site-packages (from Flask<3.1,>=1.0.4->dash) (2.2.0)\n",
      "Requirement already satisfied: click>=8.1.3 in c:\\users\\hp\\appdata\\local\\programs\\python\\python312\\lib\\site-packages (from Flask<3.1,>=1.0.4->dash) (8.1.7)\n",
      "Requirement already satisfied: blinker>=1.6.2 in c:\\users\\hp\\appdata\\local\\programs\\python\\python312\\lib\\site-packages (from Flask<3.1,>=1.0.4->dash) (1.8.1)\n",
      "Requirement already satisfied: tenacity>=6.2.0 in c:\\users\\hp\\appdata\\local\\programs\\python\\python312\\lib\\site-packages (from plotly>=5.0.0->dash) (8.5.0)\n",
      "Requirement already satisfied: packaging in c:\\users\\hp\\appdata\\local\\programs\\python\\python312\\lib\\site-packages (from plotly>=5.0.0->dash) (23.2)\n",
      "Requirement already satisfied: MarkupSafe>=2.1.1 in c:\\users\\hp\\appdata\\local\\programs\\python\\python312\\lib\\site-packages (from Werkzeug<3.1->dash) (2.1.5)\n",
      "Collecting zipp>=0.5 (from importlib-metadata->dash)\n",
      "  Downloading zipp-3.19.2-py3-none-any.whl.metadata (3.6 kB)\n",
      "Requirement already satisfied: charset-normalizer<4,>=2 in c:\\users\\hp\\appdata\\local\\programs\\python\\python312\\lib\\site-packages (from requests->dash) (3.3.2)\n",
      "Requirement already satisfied: idna<4,>=2.5 in c:\\users\\hp\\appdata\\local\\programs\\python\\python312\\lib\\site-packages (from requests->dash) (2.10)\n",
      "Requirement already satisfied: urllib3<3,>=1.21.1 in c:\\users\\hp\\appdata\\local\\programs\\python\\python312\\lib\\site-packages (from requests->dash) (2.2.1)\n",
      "Requirement already satisfied: certifi>=2017.4.17 in c:\\users\\hp\\appdata\\local\\programs\\python\\python312\\lib\\site-packages (from requests->dash) (2024.2.2)\n",
      "Requirement already satisfied: six>=1.7.0 in c:\\users\\hp\\appdata\\local\\programs\\python\\python312\\lib\\site-packages (from retrying->dash) (1.16.0)\n",
      "Requirement already satisfied: colorama in c:\\users\\hp\\appdata\\local\\programs\\python\\python312\\lib\\site-packages (from click>=8.1.3->Flask<3.1,>=1.0.4->dash) (0.4.6)\n",
      "Downloading dash-2.17.1-py3-none-any.whl (7.5 MB)\n",
      "   ---------------------------------------- 0.0/7.5 MB ? eta -:--:--\n",
      "   -- ------------------------------------- 0.4/7.5 MB 8.3 MB/s eta 0:00:02\n",
      "   ----- ---------------------------------- 1.0/7.5 MB 8.9 MB/s eta 0:00:01\n",
      "   ------- -------------------------------- 1.4/7.5 MB 8.2 MB/s eta 0:00:01\n",
      "   --------- ------------------------------ 1.9/7.5 MB 8.5 MB/s eta 0:00:01\n",
      "   ------------- -------------------------- 2.5/7.5 MB 8.1 MB/s eta 0:00:01\n",
      "   --------------- ------------------------ 2.8/7.5 MB 7.6 MB/s eta 0:00:01\n",
      "   ------------------ --------------------- 3.5/7.5 MB 7.6 MB/s eta 0:00:01\n",
      "   -------------------- ------------------- 3.9/7.5 MB 7.8 MB/s eta 0:00:01\n",
      "   ----------------------- ---------------- 4.4/7.5 MB 7.7 MB/s eta 0:00:01\n",
      "   -------------------------- ------------- 4.9/7.5 MB 7.8 MB/s eta 0:00:01\n",
      "   ---------------------------- ----------- 5.4/7.5 MB 7.7 MB/s eta 0:00:01\n",
      "   ------------------------------- -------- 5.9/7.5 MB 7.9 MB/s eta 0:00:01\n",
      "   --------------------------------- ------ 6.3/7.5 MB 7.7 MB/s eta 0:00:01\n",
      "   ------------------------------------ --- 6.7/7.5 MB 7.7 MB/s eta 0:00:01\n",
      "   ---------------------------------------  7.3/7.5 MB 7.8 MB/s eta 0:00:01\n",
      "   ---------------------------------------  7.5/7.5 MB 7.7 MB/s eta 0:00:01\n",
      "   ---------------------------------------  7.5/7.5 MB 7.7 MB/s eta 0:00:01\n",
      "   ---------------------------------------  7.5/7.5 MB 7.7 MB/s eta 0:00:01\n",
      "   ---------------------------------------  7.5/7.5 MB 7.7 MB/s eta 0:00:01\n",
      "   ---------------------------------------  7.5/7.5 MB 7.7 MB/s eta 0:00:01\n",
      "   ---------------------------------------- 7.5/7.5 MB 6.1 MB/s eta 0:00:00\n",
      "Downloading dash_core_components-2.0.0-py3-none-any.whl (3.8 kB)\n",
      "Downloading dash_html_components-2.0.0-py3-none-any.whl (4.1 kB)\n",
      "Downloading dash_table-5.0.0-py3-none-any.whl (3.9 kB)\n",
      "Downloading importlib_metadata-8.0.0-py3-none-any.whl (24 kB)\n",
      "Downloading retrying-1.3.4-py3-none-any.whl (11 kB)\n",
      "Downloading zipp-3.19.2-py3-none-any.whl (9.0 kB)\n",
      "Installing collected packages: dash-table, dash-html-components, dash-core-components, zipp, retrying, importlib-metadata, dash\n",
      "Successfully installed dash-2.17.1 dash-core-components-2.0.0 dash-html-components-2.0.0 dash-table-5.0.0 importlib-metadata-8.0.0 retrying-1.3.4 zipp-3.19.2\n",
      "Note: you may need to restart the kernel to use updated packages.\n"
     ]
    }
   ],
   "source": [
    "pip install dash"
   ]
  },
  {
   "cell_type": "code",
   "execution_count": 16,
   "metadata": {},
   "outputs": [],
   "source": [
    "from dash import dcc, html\n",
    "from flask import app\n",
    "#define layout\n",
    "app.layout = html.Div([\n",
    "    html.H1(\"My Dash App\", style={'textAlign': 'cenetr'}),\n",
    "    dcc.Input(id='input-box', type='text', value='Enter your Query...'),\n",
    "    html.Button('Submit',id='button'),\n",
    "    html.Div(id='output-div')\n",
    "])"
   ]
  },
  {
   "cell_type": "markdown",
   "metadata": {},
   "source": [
    "Callback to Update the Output"
   ]
  },
  {
   "cell_type": "code",
   "execution_count": null,
   "metadata": {},
   "outputs": [],
   "source": [
    "import dash\n",
    "from dash import html, dcc\n",
    "from dash.dependencies import Input, Output, State\n",
    "\n",
    "app = dash.Dash(__name__)\n",
    "\n",
    "@app.callback(\n",
    "    Output('output-div', 'children'),\n",
    "    Input('button', 'n_clicks'),\n",
    "    State('input-box', 'value')\n",
    ")\n",
    "def update_output(n_clicks, value):\n",
    "    if n_clicks is not None:\n",
    "        return f'You have entered: {value}'\n",
    "    return ''\n",
    "\n",
    "# Make sure you've defined your layout somewhere\n",
    "app.layout = html.Div([\n",
    "    dcc.Input(id='input-box', type='text'),\n",
    "    html.Button('Submit', id='button'),\n",
    "    html.Div(id='output-div')\n",
    "])\n",
    "\n",
    "if __name__ == '__main__':\n",
    "    app.run_server(debug=True)"
   ]
  },
  {
   "cell_type": "code",
   "execution_count": 26,
   "metadata": {},
   "outputs": [],
   "source": [
    "app.layout = html.Div([\n",
    "    html.H1(\"Chatbot\", style={'textAlign': 'center'}),\n",
    "    dcc.Textarea(\n",
    "        id='user-input',\n",
    "        value = 'Type Your Query....',\n",
    "        style = {'width': '100%','height':100}\n",
    "    ),\n",
    "    html.Button('Submit', id='submit-button', n_clicks=0),\n",
    "    html.Div(id='chatbot-output', style={'padding': '10px'})\n",
    "])"
   ]
  },
  {
   "cell_type": "markdown",
   "metadata": {},
   "source": [
    "Creating a Chatbot response"
   ]
  },
  {
   "cell_type": "code",
   "execution_count": 27,
   "metadata": {},
   "outputs": [],
   "source": [
    "# define callback to update response\n",
    "@app.callback(\n",
    "    Output('chatbot-output', 'children'),\n",
    "    Input('sunmit-button','n_clicks'),\n",
    "    [dash.dependencies.State('user-input','value')]\n",
    ")\n",
    "def update_output(n_clicks, user_input):\n",
    "    if n_clicks >0:\n",
    "        return html.Div([\n",
    "            html.P(f\"You: {user_input}\", style={'margin': '10px'}),\n",
    "            html.P(f\"Bot: I am training now, ask something else.\", style={'margin': '10px','backgroundColor':'#f0f0f0', 'padding': '10px'})\n",
    "            \n",
    "        ])\n",
    "        return \"Ask me something!\""
   ]
  }
 ],
 "metadata": {
  "kernelspec": {
   "display_name": "Python 3",
   "language": "python",
   "name": "python3"
  },
  "language_info": {
   "codemirror_mode": {
    "name": "ipython",
    "version": 3
   },
   "file_extension": ".py",
   "mimetype": "text/x-python",
   "name": "python",
   "nbconvert_exporter": "python",
   "pygments_lexer": "ipython3",
   "version": "3.12.4"
  }
 },
 "nbformat": 4,
 "nbformat_minor": 2
}
