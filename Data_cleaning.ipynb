{
 "cells": [
  {
   "cell_type": "markdown",
   "metadata": {},
   "source": [
    "Data Cleaning and Normalization"
   ]
  },
  {
   "cell_type": "code",
   "execution_count": 4,
   "metadata": {},
   "outputs": [
    {
     "name": "stdout",
     "output_type": "stream",
     "text": [
      "      Name   Age   Salary   Department\n",
      "0    Alice  25.0  50000.0           HR\n",
      "1      Bob  30.0      NaN  Engineering\n",
      "2  Charlie  35.0  70000.0  Engineering\n",
      "3    David   NaN  60000.0           HR\n",
      "4      Eve  28.0  80000.0           HR\n",
      "5    Frank  40.0  55000.0        Sales\n",
      "6    Grace  50.0  85000.0        Sales\n",
      "7     Hank  60.0  90000.0        Sales\n"
     ]
    },
    {
     "name": "stderr",
     "output_type": "stream",
     "text": [
      "C:\\Users\\hp\\AppData\\Local\\Temp\\ipykernel_6848\\3103460432.py:1: DeprecationWarning: \n",
      "Pyarrow will become a required dependency of pandas in the next major release of pandas (pandas 3.0),\n",
      "(to allow more performant data types, such as the Arrow string type, and better interoperability with other libraries)\n",
      "but was not found to be installed on your system.\n",
      "If this would cause problems for you,\n",
      "please provide us feedback at https://github.com/pandas-dev/pandas/issues/54466\n",
      "        \n",
      "  import pandas as pd\n"
     ]
    }
   ],
   "source": [
    "import pandas as pd\n",
    "df = pd.read_csv(\"C:/Users/hp/Downloads/My_Work/sample_data.csv\")\n",
    "print(df)"
   ]
  },
  {
   "cell_type": "code",
   "execution_count": 5,
   "metadata": {},
   "outputs": [
    {
     "name": "stdout",
     "output_type": "stream",
     "text": [
      "Name          0\n",
      "Age           1\n",
      "Salary        1\n",
      "Department    0\n",
      "dtype: int64\n"
     ]
    }
   ],
   "source": [
    "#Chek missing values\n",
    "print(df.isnull().sum())"
   ]
  },
  {
   "cell_type": "code",
   "execution_count": 6,
   "metadata": {},
   "outputs": [
    {
     "name": "stdout",
     "output_type": "stream",
     "text": [
      "<class 'pandas.core.frame.DataFrame'>\n",
      "RangeIndex: 8 entries, 0 to 7\n",
      "Data columns (total 4 columns):\n",
      " #   Column      Non-Null Count  Dtype  \n",
      "---  ------      --------------  -----  \n",
      " 0   Name        8 non-null      object \n",
      " 1   Age         7 non-null      float64\n",
      " 2   Salary      7 non-null      float64\n",
      " 3   Department  8 non-null      object \n",
      "dtypes: float64(2), object(2)\n",
      "memory usage: 388.0+ bytes\n"
     ]
    }
   ],
   "source": [
    "df.info()"
   ]
  },
  {
   "cell_type": "code",
   "execution_count": 7,
   "metadata": {},
   "outputs": [
    {
     "name": "stdout",
     "output_type": "stream",
     "text": [
      "      Name   Age   Salary   Department\n",
      "0    Alice  25.0  50000.0           HR\n",
      "2  Charlie  35.0  70000.0  Engineering\n",
      "4      Eve  28.0  80000.0           HR\n",
      "5    Frank  40.0  55000.0        Sales\n",
      "6    Grace  50.0  85000.0        Sales\n",
      "7     Hank  60.0  90000.0        Sales\n"
     ]
    }
   ],
   "source": [
    "#remove rows with any missing values\n",
    "df_cleaned = df.dropna()\n",
    "print(df_cleaned)"
   ]
  },
  {
   "cell_type": "code",
   "execution_count": 8,
   "metadata": {},
   "outputs": [
    {
     "name": "stdout",
     "output_type": "stream",
     "text": [
      "      Name        Age   Salary   Department\n",
      "0    Alice  25.000000  50000.0           HR\n",
      "1      Bob  30.000000  70000.0  Engineering\n",
      "2  Charlie  35.000000  70000.0  Engineering\n",
      "3    David  38.285714  60000.0           HR\n",
      "4      Eve  28.000000  80000.0           HR\n",
      "5    Frank  40.000000  55000.0        Sales\n",
      "6    Grace  50.000000  85000.0        Sales\n",
      "7     Hank  60.000000  90000.0        Sales\n"
     ]
    }
   ],
   "source": [
    "# Fill missing values with a specific values\n",
    "df_filled = df.fillna({\n",
    "    'Age': df['Age'].mean(),\n",
    "    'Salary': df['Salary'].mean()\n",
    "})\n",
    "print(df_filled)"
   ]
  },
  {
   "cell_type": "code",
   "execution_count": 9,
   "metadata": {},
   "outputs": [
    {
     "name": "stdout",
     "output_type": "stream",
     "text": [
      "      Name   Age   Salary   Department\n",
      "0    Alice  25.0  50000.0           HR\n",
      "1      Bob  30.0  50000.0  Engineering\n",
      "2  Charlie  35.0  70000.0  Engineering\n",
      "3    David  35.0  60000.0           HR\n",
      "4      Eve  28.0  80000.0           HR\n",
      "5    Frank  40.0  55000.0        Sales\n",
      "6    Grace  50.0  85000.0        Sales\n",
      "7     Hank  60.0  90000.0        Sales\n"
     ]
    },
    {
     "name": "stderr",
     "output_type": "stream",
     "text": [
      "C:\\Users\\hp\\AppData\\Local\\Temp\\ipykernel_6848\\3222957948.py:2: FutureWarning: DataFrame.fillna with 'method' is deprecated and will raise in a future version. Use obj.ffill() or obj.bfill() instead.\n",
      "  df_fill = df.fillna(method='ffill')\n"
     ]
    }
   ],
   "source": [
    "#Fill by the forward value\n",
    "df_fill = df.fillna(method='ffill')\n",
    "print(df_fill)"
   ]
  },
  {
   "cell_type": "code",
   "execution_count": 10,
   "metadata": {},
   "outputs": [
    {
     "name": "stdout",
     "output_type": "stream",
     "text": [
      "      Name   Age   Salary   Department\n",
      "0    Alice  25.0  50000.0           HR\n",
      "1      Bob  30.0  70000.0  Engineering\n",
      "2  Charlie  35.0  70000.0  Engineering\n",
      "3    David  28.0  60000.0           HR\n",
      "4      Eve  28.0  80000.0           HR\n",
      "5    Frank  40.0  55000.0        Sales\n",
      "6    Grace  50.0  85000.0        Sales\n",
      "7     Hank  60.0  90000.0        Sales\n"
     ]
    },
    {
     "name": "stderr",
     "output_type": "stream",
     "text": [
      "C:\\Users\\hp\\AppData\\Local\\Temp\\ipykernel_6848\\302704198.py:2: FutureWarning: DataFrame.fillna with 'method' is deprecated and will raise in a future version. Use obj.ffill() or obj.bfill() instead.\n",
      "  df_bfill = df.fillna(method='bfill')\n"
     ]
    }
   ],
   "source": [
    "# Fill by backward value\n",
    "df_bfill = df.fillna(method='bfill')\n",
    "print(df_bfill)"
   ]
  },
  {
   "cell_type": "markdown",
   "metadata": {},
   "source": [
    "Remove Duplicates"
   ]
  },
  {
   "cell_type": "code",
   "execution_count": 11,
   "metadata": {},
   "outputs": [
    {
     "name": "stdout",
     "output_type": "stream",
     "text": [
      "Before removing Duplicates: \n",
      "       Name   Age   Salary   Department\n",
      "0    Alice  25.0  50000.0           HR\n",
      "1      Bob  30.0      NaN  Engineering\n",
      "2  Charlie  35.0  70000.0  Engineering\n",
      "3    David   NaN  60000.0           HR\n",
      "4      Eve  28.0  80000.0           HR\n",
      "5    Frank  40.0  55000.0        Sales\n",
      "6    Grace  50.0  85000.0        Sales\n",
      "7     Hank  60.0  90000.0        Sales\n",
      "8    Alice  25.0  50000.0           HR\n",
      "9      Bob  30.0      NaN  Engineering\n"
     ]
    }
   ],
   "source": [
    "#Add duplicate rows for demonstration\n",
    "df = pd.concat([df,df.iloc[[0]],df.iloc[[1]]], ignore_index=True)\n",
    "print('Before removing Duplicates: \\n',df)"
   ]
  },
  {
   "cell_type": "code",
   "execution_count": 12,
   "metadata": {},
   "outputs": [
    {
     "name": "stdout",
     "output_type": "stream",
     "text": [
      "After remove duplicates: \n",
      "       Name   Age   Salary   Department\n",
      "0    Alice  25.0  50000.0           HR\n",
      "1      Bob  30.0      NaN  Engineering\n",
      "2  Charlie  35.0  70000.0  Engineering\n",
      "3    David   NaN  60000.0           HR\n",
      "4      Eve  28.0  80000.0           HR\n",
      "5    Frank  40.0  55000.0        Sales\n",
      "6    Grace  50.0  85000.0        Sales\n",
      "7     Hank  60.0  90000.0        Sales\n"
     ]
    }
   ],
   "source": [
    "#remove Duplicates\n",
    "df_na_duplicates = df.drop_duplicates()\n",
    "print('After remove duplicates: \\n',df_na_duplicates)"
   ]
  },
  {
   "cell_type": "markdown",
   "metadata": {},
   "source": [
    "Replace incorrect values"
   ]
  },
  {
   "cell_type": "code",
   "execution_count": 13,
   "metadata": {},
   "outputs": [
    {
     "name": "stdout",
     "output_type": "stream",
     "text": [
      "      Name   Age   Salary        Department\n",
      "0    Alice  25.0  50000.0   Human Resources\n",
      "1      Bob  30.0      NaN       Engineering\n",
      "2  Charlie  35.0  70000.0       Engineering\n",
      "3    David   NaN  60000.0   Human Resources\n",
      "4      Eve  28.0  80000.0   Human Resources\n",
      "5    Frank  40.0  55000.0  Sales Department\n",
      "6    Grace  50.0  85000.0  Sales Department\n",
      "7     Hank  60.0  90000.0  Sales Department\n",
      "8    Alice  25.0  50000.0   Human Resources\n",
      "9      Bob  30.0      NaN       Engineering\n"
     ]
    }
   ],
   "source": [
    "df_corrected=df.replace({'Department':{'HR':'Human Resources','Sales':'Sales Department'}})\n",
    "print(df_corrected)"
   ]
  },
  {
   "cell_type": "markdown",
   "metadata": {},
   "source": [
    "Ensuring Consistency\n"
   ]
  },
  {
   "cell_type": "code",
   "execution_count": 14,
   "metadata": {},
   "outputs": [
    {
     "name": "stdout",
     "output_type": "stream",
     "text": [
      "      Name   Age   Salary   Department\n",
      "0    Alice  25.0  50000.0           hr\n",
      "1      Bob  30.0      NaN  engineering\n",
      "2  Charlie  35.0  70000.0  engineering\n",
      "3    David   NaN  60000.0           hr\n",
      "4      Eve  28.0  80000.0           hr\n",
      "5    Frank  40.0  55000.0        sales\n",
      "6    Grace  50.0  85000.0        sales\n",
      "7     Hank  60.0  90000.0        sales\n",
      "8    Alice  25.0  50000.0           hr\n",
      "9      Bob  30.0      NaN  engineering\n"
     ]
    }
   ],
   "source": [
    "#Convert all department names into lower for consistency\n",
    "df['Department']=df['Department'].str.lower()\n",
    "print(df)"
   ]
  },
  {
   "cell_type": "markdown",
   "metadata": {},
   "source": [
    "Min-Max Normalization"
   ]
  },
  {
   "cell_type": "code",
   "execution_count": 16,
   "metadata": {},
   "outputs": [
    {
     "name": "stdout",
     "output_type": "stream",
     "text": [
      "Original DataFrame: \n",
      "      Name   Age   Salary   Department\n",
      "0    Alice  25.0  50000.0           hr\n",
      "1      Bob  30.0      NaN  engineering\n",
      "2  Charlie  35.0  70000.0  engineering\n",
      "3    David   NaN  60000.0           hr\n",
      "4      Eve  28.0  80000.0           hr\n",
      "5    Frank  40.0  55000.0        sales\n",
      "6    Grace  50.0  85000.0        sales\n",
      "7     Hank  60.0  90000.0        sales\n",
      "8    Alice  25.0  50000.0           hr\n",
      "9      Bob  30.0      NaN  engineering\n",
      "\n",
      "Normalized Dataframe: \n",
      "      Name       Age   Salary   Department\n",
      "0    Alice  0.000000  50000.0           hr\n",
      "1      Bob  0.142857      NaN  engineering\n",
      "2  Charlie  0.285714  70000.0  engineering\n",
      "3    David       NaN  60000.0           hr\n",
      "4      Eve  0.085714  80000.0           hr\n",
      "5    Frank  0.428571  55000.0        sales\n",
      "6    Grace  0.714286  85000.0        sales\n",
      "7     Hank  1.000000  90000.0        sales\n",
      "8    Alice  0.000000  50000.0           hr\n",
      "9      Bob  0.142857      NaN  engineering\n",
      "Original DataFrame: \n",
      "      Name   Age   Salary   Department\n",
      "0    Alice  25.0  50000.0           hr\n",
      "1      Bob  30.0      NaN  engineering\n",
      "2  Charlie  35.0  70000.0  engineering\n",
      "3    David   NaN  60000.0           hr\n",
      "4      Eve  28.0  80000.0           hr\n",
      "5    Frank  40.0  55000.0        sales\n",
      "6    Grace  50.0  85000.0        sales\n",
      "7     Hank  60.0  90000.0        sales\n",
      "8    Alice  25.0  50000.0           hr\n",
      "9      Bob  30.0      NaN  engineering\n",
      "\n",
      "Normalized Dataframe: \n",
      "      Name       Age  Salary   Department\n",
      "0    Alice  0.000000   0.000           hr\n",
      "1      Bob  0.142857     NaN  engineering\n",
      "2  Charlie  0.285714   0.500  engineering\n",
      "3    David       NaN   0.250           hr\n",
      "4      Eve  0.085714   0.750           hr\n",
      "5    Frank  0.428571   0.125        sales\n",
      "6    Grace  0.714286   0.875        sales\n",
      "7     Hank  1.000000   1.000        sales\n",
      "8    Alice  0.000000   0.000           hr\n",
      "9      Bob  0.142857     NaN  engineering\n"
     ]
    }
   ],
   "source": [
    "#apply min-max normalization using formula\n",
    "df_normalized = df.copy()\n",
    "for col in['Age','Salary']:\n",
    "    df_normalized[col]=(df[col]-df[col].min())/(df[col].max()-df[col].min())\n",
    "    print('Original DataFrame: ')\n",
    "    print(df)\n",
    "    print('\\nNormalized Dataframe: ')\n",
    "    print(df_normalized)"
   ]
  }
 ],
 "metadata": {
  "kernelspec": {
   "display_name": "Python 3",
   "language": "python",
   "name": "python3"
  },
  "language_info": {
   "codemirror_mode": {
    "name": "ipython",
    "version": 3
   },
   "file_extension": ".py",
   "mimetype": "text/x-python",
   "name": "python",
   "nbconvert_exporter": "python",
   "pygments_lexer": "ipython3",
   "version": "3.12.4"
  }
 },
 "nbformat": 4,
 "nbformat_minor": 2
}
