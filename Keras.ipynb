{
  "cells": [
    {
      "cell_type": "code",
      "execution_count": 1,
      "metadata": {
        "id": "7cNCpLPrhU5T"
      },
      "outputs": [
        {
          "ename": "ImportError",
          "evalue": "DLL load failed while importing _pywrap_tf2: A dynamic link library (DLL) initialization routine failed.",
          "output_type": "error",
          "traceback": [
            "\u001b[1;31m---------------------------------------------------------------------------\u001b[0m",
            "\u001b[1;31mImportError\u001b[0m                               Traceback (most recent call last)",
            "Cell \u001b[1;32mIn[1], line 2\u001b[0m\n\u001b[0;32m      1\u001b[0m \u001b[38;5;28;01mimport\u001b[39;00m \u001b[38;5;21;01mnumpy\u001b[39;00m \u001b[38;5;28;01mas\u001b[39;00m \u001b[38;5;21;01mnp\u001b[39;00m\n\u001b[1;32m----> 2\u001b[0m \u001b[38;5;28;01mimport\u001b[39;00m \u001b[38;5;21;01mtensorflow\u001b[39;00m \u001b[38;5;28;01mas\u001b[39;00m \u001b[38;5;21;01mtf\u001b[39;00m\n\u001b[0;32m      3\u001b[0m \u001b[38;5;28;01mfrom\u001b[39;00m \u001b[38;5;21;01mtensorflow\u001b[39;00m\u001b[38;5;21;01m.\u001b[39;00m\u001b[38;5;21;01mkeras\u001b[39;00m\u001b[38;5;21;01m.\u001b[39;00m\u001b[38;5;21;01mmodels\u001b[39;00m \u001b[38;5;28;01mimport\u001b[39;00m Sequential\n\u001b[0;32m      4\u001b[0m \u001b[38;5;28;01mfrom\u001b[39;00m \u001b[38;5;21;01mtensorflow\u001b[39;00m\u001b[38;5;21;01m.\u001b[39;00m\u001b[38;5;21;01mkeras\u001b[39;00m\u001b[38;5;21;01m.\u001b[39;00m\u001b[38;5;21;01mlayers\u001b[39;00m \u001b[38;5;28;01mimport\u001b[39;00m SimpleRNN, Dense\n",
            "File \u001b[1;32mc:\\Users\\hp\\AppData\\Local\\Programs\\Python\\Python312\\Lib\\site-packages\\tensorflow\\__init__.py:42\u001b[0m\n\u001b[0;32m     40\u001b[0m \u001b[38;5;66;03m# Make sure code inside the TensorFlow codebase can use tf2.enabled() at import.\u001b[39;00m\n\u001b[0;32m     41\u001b[0m _os\u001b[38;5;241m.\u001b[39menviron[\u001b[38;5;124m\"\u001b[39m\u001b[38;5;124mTF2_BEHAVIOR\u001b[39m\u001b[38;5;124m\"\u001b[39m] \u001b[38;5;241m=\u001b[39m \u001b[38;5;124m\"\u001b[39m\u001b[38;5;124m1\u001b[39m\u001b[38;5;124m\"\u001b[39m\n\u001b[1;32m---> 42\u001b[0m \u001b[38;5;28;01mfrom\u001b[39;00m \u001b[38;5;21;01mtensorflow\u001b[39;00m\u001b[38;5;21;01m.\u001b[39;00m\u001b[38;5;21;01mpython\u001b[39;00m \u001b[38;5;28;01mimport\u001b[39;00m tf2 \u001b[38;5;28;01mas\u001b[39;00m _tf2\n\u001b[0;32m     43\u001b[0m _tf2\u001b[38;5;241m.\u001b[39menable()\n\u001b[0;32m     45\u001b[0m \u001b[38;5;28;01mfrom\u001b[39;00m \u001b[38;5;21;01mtensorflow\u001b[39;00m\u001b[38;5;21;01m.\u001b[39;00m\u001b[38;5;21;01m_api\u001b[39;00m\u001b[38;5;21;01m.\u001b[39;00m\u001b[38;5;21;01mv2\u001b[39;00m \u001b[38;5;28;01mimport\u001b[39;00m __internal__\n",
            "File \u001b[1;32mc:\\Users\\hp\\AppData\\Local\\Programs\\Python\\Python312\\Lib\\site-packages\\tensorflow\\python\\tf2.py:21\u001b[0m\n\u001b[0;32m      1\u001b[0m \u001b[38;5;66;03m# Copyright 2018 The TensorFlow Authors. All Rights Reserved.\u001b[39;00m\n\u001b[0;32m      2\u001b[0m \u001b[38;5;66;03m#\u001b[39;00m\n\u001b[0;32m      3\u001b[0m \u001b[38;5;66;03m# Licensed under the Apache License, Version 2.0 (the \"License\");\u001b[39;00m\n\u001b[1;32m   (...)\u001b[0m\n\u001b[0;32m     13\u001b[0m \u001b[38;5;66;03m# limitations under the License.\u001b[39;00m\n\u001b[0;32m     14\u001b[0m \u001b[38;5;66;03m# ==============================================================================\u001b[39;00m\n\u001b[0;32m     15\u001b[0m \u001b[38;5;124;03m\"\"\"Tools to help with the TensorFlow 2.0 transition.\u001b[39;00m\n\u001b[0;32m     16\u001b[0m \n\u001b[0;32m     17\u001b[0m \u001b[38;5;124;03mThis module is meant for TensorFlow internal implementation, not for users of\u001b[39;00m\n\u001b[0;32m     18\u001b[0m \u001b[38;5;124;03mthe TensorFlow library. For that see tf.compat instead.\u001b[39;00m\n\u001b[0;32m     19\u001b[0m \u001b[38;5;124;03m\"\"\"\u001b[39;00m\n\u001b[1;32m---> 21\u001b[0m \u001b[38;5;28;01mfrom\u001b[39;00m \u001b[38;5;21;01mtensorflow\u001b[39;00m\u001b[38;5;21;01m.\u001b[39;00m\u001b[38;5;21;01mpython\u001b[39;00m\u001b[38;5;21;01m.\u001b[39;00m\u001b[38;5;21;01mplatform\u001b[39;00m \u001b[38;5;28;01mimport\u001b[39;00m _pywrap_tf2\n\u001b[0;32m     22\u001b[0m \u001b[38;5;28;01mfrom\u001b[39;00m \u001b[38;5;21;01mtensorflow\u001b[39;00m\u001b[38;5;21;01m.\u001b[39;00m\u001b[38;5;21;01mpython\u001b[39;00m\u001b[38;5;21;01m.\u001b[39;00m\u001b[38;5;21;01mutil\u001b[39;00m\u001b[38;5;21;01m.\u001b[39;00m\u001b[38;5;21;01mtf_export\u001b[39;00m \u001b[38;5;28;01mimport\u001b[39;00m tf_export\n\u001b[0;32m     25\u001b[0m \u001b[38;5;28;01mdef\u001b[39;00m \u001b[38;5;21menable\u001b[39m():\n\u001b[0;32m     26\u001b[0m   \u001b[38;5;66;03m# Enables v2 behaviors.\u001b[39;00m\n",
            "\u001b[1;31mImportError\u001b[0m: DLL load failed while importing _pywrap_tf2: A dynamic link library (DLL) initialization routine failed."
          ]
        }
      ],
      "source": [
        "import numpy as np\n",
        "import tensorflow as tf\n",
        "from tensorflow.keras.models import Sequential\n",
        "from tensorflow.keras.layers import SimpleRNN, Dense"
      ]
    },
    {
      "cell_type": "code",
      "execution_count": 5,
      "metadata": {
        "id": "ORNqyKK7iPPV"
      },
      "outputs": [],
      "source": [
        "text = \"This is course on Artificial Intelligence\"\n",
        "chars = sorted(list(set(text)))\n",
        "char_to_index = {}\n",
        "index_to_char = {}"
      ]
    },
    {
      "cell_type": "code",
      "execution_count": 6,
      "metadata": {
        "colab": {
          "base_uri": "https://localhost:8080/"
        },
        "id": "SnNqKI54j53o",
        "outputId": "8208c353-78ab-4886-edf4-681a75ebbc10"
      },
      "outputs": [
        {
          "name": "stdout",
          "output_type": "stream",
          "text": [
            "{' ': 0}\n",
            "{' ': 0, 'A': 1}\n",
            "{' ': 0, 'A': 1, 'I': 2}\n",
            "{' ': 0, 'A': 1, 'I': 2, 'T': 3}\n",
            "{' ': 0, 'A': 1, 'I': 2, 'T': 3, 'a': 4}\n",
            "{' ': 0, 'A': 1, 'I': 2, 'T': 3, 'a': 4, 'c': 5}\n",
            "{' ': 0, 'A': 1, 'I': 2, 'T': 3, 'a': 4, 'c': 5, 'e': 6}\n",
            "{' ': 0, 'A': 1, 'I': 2, 'T': 3, 'a': 4, 'c': 5, 'e': 6, 'f': 7}\n",
            "{' ': 0, 'A': 1, 'I': 2, 'T': 3, 'a': 4, 'c': 5, 'e': 6, 'f': 7, 'g': 8}\n",
            "{' ': 0, 'A': 1, 'I': 2, 'T': 3, 'a': 4, 'c': 5, 'e': 6, 'f': 7, 'g': 8, 'h': 9}\n",
            "{' ': 0, 'A': 1, 'I': 2, 'T': 3, 'a': 4, 'c': 5, 'e': 6, 'f': 7, 'g': 8, 'h': 9, 'i': 10}\n",
            "{' ': 0, 'A': 1, 'I': 2, 'T': 3, 'a': 4, 'c': 5, 'e': 6, 'f': 7, 'g': 8, 'h': 9, 'i': 10, 'l': 11}\n",
            "{' ': 0, 'A': 1, 'I': 2, 'T': 3, 'a': 4, 'c': 5, 'e': 6, 'f': 7, 'g': 8, 'h': 9, 'i': 10, 'l': 11, 'n': 12}\n",
            "{' ': 0, 'A': 1, 'I': 2, 'T': 3, 'a': 4, 'c': 5, 'e': 6, 'f': 7, 'g': 8, 'h': 9, 'i': 10, 'l': 11, 'n': 12, 'o': 13}\n",
            "{' ': 0, 'A': 1, 'I': 2, 'T': 3, 'a': 4, 'c': 5, 'e': 6, 'f': 7, 'g': 8, 'h': 9, 'i': 10, 'l': 11, 'n': 12, 'o': 13, 'r': 14}\n",
            "{' ': 0, 'A': 1, 'I': 2, 'T': 3, 'a': 4, 'c': 5, 'e': 6, 'f': 7, 'g': 8, 'h': 9, 'i': 10, 'l': 11, 'n': 12, 'o': 13, 'r': 14, 's': 15}\n",
            "{' ': 0, 'A': 1, 'I': 2, 'T': 3, 'a': 4, 'c': 5, 'e': 6, 'f': 7, 'g': 8, 'h': 9, 'i': 10, 'l': 11, 'n': 12, 'o': 13, 'r': 14, 's': 15, 't': 16}\n",
            "{' ': 0, 'A': 1, 'I': 2, 'T': 3, 'a': 4, 'c': 5, 'e': 6, 'f': 7, 'g': 8, 'h': 9, 'i': 10, 'l': 11, 'n': 12, 'o': 13, 'r': 14, 's': 15, 't': 16, 'u': 17}\n"
          ]
        }
      ],
      "source": [
        "for i ,char in enumerate(chars):\n",
        "  char_to_index[char]=i\n",
        "  print(char_to_index)"
      ]
    },
    {
      "cell_type": "code",
      "execution_count": 7,
      "metadata": {
        "colab": {
          "base_uri": "https://localhost:8080/"
        },
        "id": "-FS0xu-ckiXX",
        "outputId": "20e21360-d94d-4c51-99cd-07fd3594055d"
      },
      "outputs": [
        {
          "name": "stdout",
          "output_type": "stream",
          "text": [
            "{0: ' '}\n",
            "{0: ' ', 1: 'A'}\n",
            "{0: ' ', 1: 'A', 2: 'I'}\n",
            "{0: ' ', 1: 'A', 2: 'I', 3: 'T'}\n",
            "{0: ' ', 1: 'A', 2: 'I', 3: 'T', 4: 'a'}\n",
            "{0: ' ', 1: 'A', 2: 'I', 3: 'T', 4: 'a', 5: 'c'}\n",
            "{0: ' ', 1: 'A', 2: 'I', 3: 'T', 4: 'a', 5: 'c', 6: 'e'}\n",
            "{0: ' ', 1: 'A', 2: 'I', 3: 'T', 4: 'a', 5: 'c', 6: 'e', 7: 'f'}\n",
            "{0: ' ', 1: 'A', 2: 'I', 3: 'T', 4: 'a', 5: 'c', 6: 'e', 7: 'f', 8: 'g'}\n",
            "{0: ' ', 1: 'A', 2: 'I', 3: 'T', 4: 'a', 5: 'c', 6: 'e', 7: 'f', 8: 'g', 9: 'h'}\n",
            "{0: ' ', 1: 'A', 2: 'I', 3: 'T', 4: 'a', 5: 'c', 6: 'e', 7: 'f', 8: 'g', 9: 'h', 10: 'i'}\n",
            "{0: ' ', 1: 'A', 2: 'I', 3: 'T', 4: 'a', 5: 'c', 6: 'e', 7: 'f', 8: 'g', 9: 'h', 10: 'i', 11: 'l'}\n",
            "{0: ' ', 1: 'A', 2: 'I', 3: 'T', 4: 'a', 5: 'c', 6: 'e', 7: 'f', 8: 'g', 9: 'h', 10: 'i', 11: 'l', 12: 'n'}\n",
            "{0: ' ', 1: 'A', 2: 'I', 3: 'T', 4: 'a', 5: 'c', 6: 'e', 7: 'f', 8: 'g', 9: 'h', 10: 'i', 11: 'l', 12: 'n', 13: 'o'}\n",
            "{0: ' ', 1: 'A', 2: 'I', 3: 'T', 4: 'a', 5: 'c', 6: 'e', 7: 'f', 8: 'g', 9: 'h', 10: 'i', 11: 'l', 12: 'n', 13: 'o', 14: 'r'}\n",
            "{0: ' ', 1: 'A', 2: 'I', 3: 'T', 4: 'a', 5: 'c', 6: 'e', 7: 'f', 8: 'g', 9: 'h', 10: 'i', 11: 'l', 12: 'n', 13: 'o', 14: 'r', 15: 's'}\n",
            "{0: ' ', 1: 'A', 2: 'I', 3: 'T', 4: 'a', 5: 'c', 6: 'e', 7: 'f', 8: 'g', 9: 'h', 10: 'i', 11: 'l', 12: 'n', 13: 'o', 14: 'r', 15: 's', 16: 't'}\n",
            "{0: ' ', 1: 'A', 2: 'I', 3: 'T', 4: 'a', 5: 'c', 6: 'e', 7: 'f', 8: 'g', 9: 'h', 10: 'i', 11: 'l', 12: 'n', 13: 'o', 14: 'r', 15: 's', 16: 't', 17: 'u'}\n"
          ]
        }
      ],
      "source": [
        "for i, char in enumerate(chars):\n",
        "  index_to_char[i]=char\n",
        "  print(index_to_char)"
      ]
    }
  ],
  "metadata": {
    "colab": {
      "provenance": []
    },
    "kernelspec": {
      "display_name": "Python 3",
      "name": "python3"
    },
    "language_info": {
      "codemirror_mode": {
        "name": "ipython",
        "version": 3
      },
      "file_extension": ".py",
      "mimetype": "text/x-python",
      "name": "python",
      "nbconvert_exporter": "python",
      "pygments_lexer": "ipython3",
      "version": "3.12.4"
    }
  },
  "nbformat": 4,
  "nbformat_minor": 0
}
