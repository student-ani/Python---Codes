{
 "cells": [
  {
   "cell_type": "code",
   "execution_count": 4,
   "metadata": {},
   "outputs": [
    {
     "name": "stdout",
     "output_type": "stream",
     "text": [
      "('1-D: ', array([1, 2, 3, 4, 5]))\n",
      "('2-D: ', array([[1, 2, 3],\n",
      "       [4, 5, 6]]))\n",
      "('3-D: ', array([[0, 1, 2],\n",
      "       [4, 5, 6],\n",
      "       [7, 8, 9]]))\n"
     ]
    }
   ],
   "source": [
    "import numpy as np\n",
    "\n",
    "arr1 = np.array([1,2,3,4,5])  #1D array\n",
    "arr2 = np.array([[1,2,3],[4,5,6]])  #2D array\n",
    "arr3 = np.array([[0,1,2],[4,5,6],[7,8,9]])  #3D array\n",
    "print((\"1-D: \",arr1))\n",
    "print((\"2-D: \",arr2))\n",
    "print((\"3-D: \",arr3))"
   ]
  },
  {
   "cell_type": "code",
   "execution_count": 10,
   "metadata": {},
   "outputs": [
    {
     "name": "stdout",
     "output_type": "stream",
     "text": [
      "[[0. 0. 0. 0.]\n",
      " [0. 0. 0. 0.]\n",
      " [0. 0. 0. 0.]]\n"
     ]
    }
   ],
   "source": [
    "#array of zeroes\n",
    "zeros = np.zeros((3,4))\n",
    "print(zeros)"
   ]
  },
  {
   "cell_type": "markdown",
   "metadata": {},
   "source": []
  },
  {
   "cell_type": "code",
   "execution_count": 12,
   "metadata": {},
   "outputs": [
    {
     "name": "stdout",
     "output_type": "stream",
     "text": [
      "[[1. 1. 1. 1.]\n",
      " [1. 1. 1. 1.]\n",
      " [1. 1. 1. 1.]\n",
      " [1. 1. 1. 1.]]\n"
     ]
    }
   ],
   "source": [
    "#array of 1s\n",
    "ones = np.ones((4,4))\n",
    "print(ones)"
   ]
  },
  {
   "cell_type": "code",
   "execution_count": 18,
   "metadata": {},
   "outputs": [
    {
     "name": "stdout",
     "output_type": "stream",
     "text": [
      "[0 2 4 6 8]\n"
     ]
    }
   ],
   "source": [
    "#create an array with the gap of 2\n",
    "range = np.arange(0, 10, 2)\n",
    "print(range)"
   ]
  },
  {
   "cell_type": "code",
   "execution_count": 22,
   "metadata": {},
   "outputs": [
    {
     "name": "stdout",
     "output_type": "stream",
     "text": [
      "[[0.68308315 0.39193134 0.57372603]\n",
      " [0.75664909 0.08256411 0.98335661]\n",
      " [0.26555693 0.27512507 0.50995827]]\n"
     ]
    }
   ],
   "source": [
    "#create an array with random values\n",
    "random = np.random.rand(3,3)\n",
    "print(random)"
   ]
  },
  {
   "cell_type": "code",
   "execution_count": 24,
   "metadata": {},
   "outputs": [
    {
     "name": "stdout",
     "output_type": "stream",
     "text": [
      "1\n",
      "2\n",
      "3\n",
      "4\n",
      "5\n"
     ]
    }
   ],
   "source": [
    "arr1\n",
    "for i in arr1:\n",
    "    print(i)"
   ]
  },
  {
   "cell_type": "code",
   "execution_count": 36,
   "metadata": {},
   "outputs": [
    {
     "name": "stdout",
     "output_type": "stream",
     "text": [
      "[3 4 5 6 7]\n",
      "[ 2  4  6  8 10]\n",
      "[0 1 2 3 4]\n",
      "[0.5 1.  1.5 2.  2.5]\n",
      "[1.         1.41421356 1.73205081 2.         2.23606798]\n",
      "[  2.71828183   7.3890561   20.08553692  54.59815003 148.4131591 ]\n",
      "[0.         0.69314718 1.09861229 1.38629436 1.60943791]\n"
     ]
    }
   ],
   "source": [
    "#element wise addition\n",
    "arr = np.array([1,2,3,4,5])\n",
    "print(arr+2)\n",
    "print(arr*2)\n",
    "print(arr-1)\n",
    "print(arr/2)\n",
    "print(np.sqrt(arr))   #squareroot of each element\n",
    "print(np.exp(arr))    #exponent\n",
    "print(np.log(arr))    #log"
   ]
  },
  {
   "cell_type": "code",
   "execution_count": 44,
   "metadata": {},
   "outputs": [
    {
     "name": "stdout",
     "output_type": "stream",
     "text": [
      "1\n",
      "2\n",
      "5\n",
      "5\n"
     ]
    }
   ],
   "source": [
    "#array indexing and slicing - indexing\n",
    "print(arr[0])\n",
    "print(arr[1])\n",
    "print(arr[4])\n",
    "print(arr[-1])"
   ]
  },
  {
   "cell_type": "code",
   "execution_count": 49,
   "metadata": {},
   "outputs": [
    {
     "name": "stdout",
     "output_type": "stream",
     "text": [
      "[2 3 4]\n",
      "[1 2 3]\n",
      "[3 4 5]\n",
      "[2 4]\n"
     ]
    }
   ],
   "source": [
    "#array indexing and slicing - slicing\n",
    "print(arr[1:4])    #elements between index 1 -4\n",
    "print(arr[:3])     #first 3 elements\n",
    "print(arr[2:])     #last from index 2 to end\n",
    "print(arr[1:4:2])  #elements between index 1 -4 with gap of 2"
   ]
  },
  {
   "cell_type": "code",
   "execution_count": 56,
   "metadata": {},
   "outputs": [
    {
     "name": "stdout",
     "output_type": "stream",
     "text": [
      "[4 5]\n",
      "[1 2 4]\n"
     ]
    }
   ],
   "source": [
    "#boolean indexing\n",
    "print(arr[arr>3])\n",
    "#fancy indexing\n",
    "indices = [0,1,3]\n",
    "print(arr[indices])"
   ]
  },
  {
   "cell_type": "code",
   "execution_count": 60,
   "metadata": {},
   "outputs": [
    {
     "name": "stdout",
     "output_type": "stream",
     "text": [
      "[[1]\n",
      " [2]\n",
      " [3]\n",
      " [4]\n",
      " [5]\n",
      " [6]]\n"
     ]
    }
   ],
   "source": [
    "#reshaping the array\n",
    "arr = np.array([[1,2,3],[4,5,6]])\n",
    "reshaped = arr.reshape((6,1))\n",
    "print(reshaped)"
   ]
  },
  {
   "cell_type": "code",
   "execution_count": 62,
   "metadata": {},
   "outputs": [
    {
     "name": "stdout",
     "output_type": "stream",
     "text": [
      "[[1 4 7]\n",
      " [2 5 8]\n",
      " [3 6 9]]\n"
     ]
    }
   ],
   "source": [
    "#transposing the array\n",
    "arr = np.array([[1,2,3],[4,5,6],[7,8,9]])\n",
    "transposed = arr.T\n",
    "print(transposed)"
   ]
  },
  {
   "cell_type": "code",
   "execution_count": 69,
   "metadata": {},
   "outputs": [
    {
     "name": "stdout",
     "output_type": "stream",
     "text": [
      "45\n",
      "[12 15 18]\n",
      "[ 6 15 24]\n",
      "5.0\n",
      "1\n",
      "9\n",
      "8\n",
      "0\n"
     ]
    }
   ],
   "source": [
    "#Aggregation Function\n",
    "arr = np.array([[1,2,3],[4,5,6],[7,8,9]])\n",
    "print(np.sum(arr))  #sum of all elements\n",
    "print(np.sum(arr,axis = 0))  #sum along columns\n",
    "print(np.sum(arr,axis = 1))  #sum along rows\n",
    "print(np.mean(arr))  #mean of all elements\n",
    "print(np.min(arr))   #min in all elements\n",
    "print(np.max(arr))   #max in all elements\n",
    "print(np.argmax(arr))   #max value index\n",
    "print(np.argmin(arr))   #min value index\n"
   ]
  }
 ],
 "metadata": {
  "kernelspec": {
   "display_name": "Python 3",
   "language": "python",
   "name": "python3"
  },
  "language_info": {
   "codemirror_mode": {
    "name": "ipython",
    "version": 3
   },
   "file_extension": ".py",
   "mimetype": "text/x-python",
   "name": "python",
   "nbconvert_exporter": "python",
   "pygments_lexer": "ipython3",
   "version": "3.12.4"
  }
 },
 "nbformat": 4,
 "nbformat_minor": 2
}
